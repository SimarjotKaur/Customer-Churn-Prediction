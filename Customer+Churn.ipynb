{
 "cells": [
  {
   "cell_type": "code",
   "execution_count": 157,
   "metadata": {
    "collapsed": false
   },
   "outputs": [],
   "source": [
    "#importing libraries\n",
    "import pandas as pd #Data Processing\n",
    "import numpy as np\n",
    "import collections\n",
    "\n",
    "#Visual Analysis\n",
    "%matplotlib inline\n",
    "import matplotlib.pyplot as plt\n",
    "import seaborn as sns\n",
    "\n",
    "from sklearn.model_selection import StratifiedShuffleSplit #Splitting the dataset\n",
    "from sklearn.ensemble import RandomForestClassifier\n",
    "from sklearn.svm import SVC\n",
    "from sklearn.metrics import f1_score, classification_report, confusion_matrix, precision_recall_curve, auc\n",
    "from imblearn.over_sampling import ADASYN #Adaptive Synthetic Oversampling\n",
    "from collections import Counter"
   ]
  },
  {
   "cell_type": "code",
   "execution_count": 158,
   "metadata": {
    "collapsed": false
   },
   "outputs": [
    {
     "data": {
      "text/html": [
       "<div>\n",
       "<table border=\"1\" class=\"dataframe\">\n",
       "  <thead>\n",
       "    <tr style=\"text-align: right;\">\n",
       "      <th></th>\n",
       "      <th>company</th>\n",
       "      <th>company_type</th>\n",
       "      <th>subscribed_after_free_trial</th>\n",
       "    </tr>\n",
       "  </thead>\n",
       "  <tbody>\n",
       "    <tr>\n",
       "      <th>0</th>\n",
       "      <td>346782</td>\n",
       "      <td>uk_limited_company</td>\n",
       "      <td>False</td>\n",
       "    </tr>\n",
       "    <tr>\n",
       "      <th>1</th>\n",
       "      <td>346783</td>\n",
       "      <td>uk_limited_company</td>\n",
       "      <td>False</td>\n",
       "    </tr>\n",
       "    <tr>\n",
       "      <th>2</th>\n",
       "      <td>346784</td>\n",
       "      <td>uk_limited_company</td>\n",
       "      <td>True</td>\n",
       "    </tr>\n",
       "    <tr>\n",
       "      <th>3</th>\n",
       "      <td>346785</td>\n",
       "      <td>uk_limited_company</td>\n",
       "      <td>False</td>\n",
       "    </tr>\n",
       "    <tr>\n",
       "      <th>4</th>\n",
       "      <td>346786</td>\n",
       "      <td>uk_limited_company</td>\n",
       "      <td>False</td>\n",
       "    </tr>\n",
       "  </tbody>\n",
       "</table>\n",
       "</div>"
      ],
      "text/plain": [
       "   company        company_type subscribed_after_free_trial\n",
       "0   346782  uk_limited_company                       False\n",
       "1   346783  uk_limited_company                       False\n",
       "2   346784  uk_limited_company                        True\n",
       "3   346785  uk_limited_company                       False\n",
       "4   346786  uk_limited_company                       False"
      ]
     },
     "execution_count": 158,
     "metadata": {},
     "output_type": "execute_result"
    }
   ],
   "source": [
    "#Reading csv file in a dataframe\n",
    "customer_data= pd.read_csv(\"attributes_report.csv\")\n",
    "customer_data.head()"
   ]
  },
  {
   "cell_type": "markdown",
   "metadata": {},
   "source": [
    "# Dataset Analysis"
   ]
  },
  {
   "cell_type": "code",
   "execution_count": 159,
   "metadata": {
    "collapsed": false
   },
   "outputs": [
    {
     "data": {
      "text/plain": [
       "(950, 3)"
      ]
     },
     "execution_count": 159,
     "metadata": {},
     "output_type": "execute_result"
    }
   ],
   "source": [
    "#Dmensionality of the data\n",
    "customer_data.shape"
   ]
  },
  {
   "cell_type": "markdown",
   "metadata": {},
   "source": [
    "The dataset contains 950 instances and 3 features including the target feature."
   ]
  },
  {
   "cell_type": "code",
   "execution_count": 160,
   "metadata": {
    "collapsed": false
   },
   "outputs": [
    {
     "name": "stdout",
     "output_type": "stream",
     "text": [
      "<class 'pandas.core.frame.DataFrame'>\n",
      "RangeIndex: 950 entries, 0 to 949\n",
      "Data columns (total 3 columns):\n",
      "company                        950 non-null int64\n",
      "company_type                   950 non-null object\n",
      "subscribed_after_free_trial    950 non-null bool\n",
      "dtypes: bool(1), int64(1), object(1)\n",
      "memory usage: 15.8+ KB\n"
     ]
    }
   ],
   "source": [
    "customer_data.info()"
   ]
  },
  {
   "cell_type": "markdown",
   "metadata": {},
   "source": [
    "This shows there are 950 instances and 3 attributes including the target attribute (subscribed_after_free_trial)."
   ]
  },
  {
   "cell_type": "code",
   "execution_count": 161,
   "metadata": {
    "collapsed": false
   },
   "outputs": [
    {
     "data": {
      "text/plain": [
       "company                        0\n",
       "company_type                   0\n",
       "subscribed_after_free_trial    0\n",
       "dtype: int64"
      ]
     },
     "execution_count": 161,
     "metadata": {},
     "output_type": "execute_result"
    }
   ],
   "source": [
    "#Sum of missing cells for each attribute\n",
    "customer_data.isnull().sum()"
   ]
  },
  {
   "cell_type": "markdown",
   "metadata": {},
   "source": [
    "This shows that there is no missing data."
   ]
  },
  {
   "cell_type": "code",
   "execution_count": 162,
   "metadata": {
    "collapsed": false
   },
   "outputs": [
    {
     "data": {
      "text/plain": [
       "2"
      ]
     },
     "execution_count": 162,
     "metadata": {},
     "output_type": "execute_result"
    }
   ],
   "source": [
    "#Number of distinct categories or classes in the target attribute\n",
    "customer_data['subscribed_after_free_trial'].nunique()"
   ]
  },
  {
   "cell_type": "code",
   "execution_count": 163,
   "metadata": {
    "collapsed": false
   },
   "outputs": [
    {
     "data": {
      "text/plain": [
       "False    789\n",
       "True     161\n",
       "Name: subscribed_after_free_trial, dtype: int64"
      ]
     },
     "execution_count": 163,
     "metadata": {},
     "output_type": "execute_result"
    }
   ],
   "source": [
    "#number of instances per class\n",
    "customer_data.subscribed_after_free_trial.value_counts()"
   ]
  },
  {
   "cell_type": "markdown",
   "metadata": {},
   "source": [
    "This shows a complete imbalance in the dataset with 'False' being the majority class (789 instances) and, 'True' the minority class (161 instances)."
   ]
  },
  {
   "cell_type": "code",
   "execution_count": 164,
   "metadata": {
    "collapsed": false
   },
   "outputs": [
    {
     "data": {
      "text/plain": [
       "<matplotlib.axes._subplots.AxesSubplot at 0x1ca707da668>"
      ]
     },
     "execution_count": 164,
     "metadata": {},
     "output_type": "execute_result"
    },
    {
     "data": {
      "image/png": "[encoded data removed]",
      "text/plain": [
       "<matplotlib.figure.Figure at 0x1ca708cbeb8>"
      ]
     },
     "metadata": {},
     "output_type": "display_data"
    }
   ],
   "source": [
    "#visual representation of instances per class\n",
    "customer_data.subscribed_after_free_trial.value_counts().plot.bar()"
   ]
  },
  {
   "cell_type": "markdown",
   "metadata": {},
   "source": [
    "# Data Processing"
   ]
  },
  {
   "cell_type": "code",
   "execution_count": 165,
   "metadata": {
    "collapsed": false
   },
   "outputs": [
    {
     "name": "stdout",
     "output_type": "stream",
     "text": [
      "Empty DataFrame\n",
      "Columns: [company, number_of_visits]\n",
      "Index: []\n"
     ]
    }
   ],
   "source": [
    "log_df = pd.DataFrame(columns=['company','number_of_visits'])\n",
    "print(log_df)"
   ]
  },
  {
   "cell_type": "code",
   "execution_count": 166,
   "metadata": {
    "collapsed": false
   },
   "outputs": [
    {
     "name": "stdout",
     "output_type": "stream",
     "text": [
      "{346782: 3, 346783: 0, 346784: 7, 346785: 0, 346786: 0, 346787: 1, 346788: 0, 346789: 0, 346790: 0, 346791: 2, 346792: 7, 346793: 0, 346794: 1, 346795: 2, 346796: 11, 346797: 2, 346798: 1, 346799: 2, 346800: 1, 346801: 1, 346802: 2, 346803: 6, 346804: 0, 346805: 5, 346806: 1, 346807: 2, 346808: 4, 346809: 0, 346810: 1, 346811: 0, 346812: 2, 346813: 0, 346814: 1, 346815: 1, 346816: 9, 346817: 4, 346818: 2, 346819: 11, 346820: 2, 346821: 4, 346822: 3, 346823: 1, 346824: 1, 346825: 1, 346826: 2, 346827: 11, 346828: 2, 346829: 1, 346830: 2, 346831: 0, 346832: 2, 346833: 1, 346834: 12, 346835: 1, 346836: 2, 346837: 3, 346838: 0, 346839: 1, 346840: 1, 346841: 1, 346842: 1, 346843: 3, 346844: 1, 346845: 3, 346846: 0, 346847: 10, 346848: 7, 346849: 2, 346850: 2, 346851: 1, 346852: 3, 346853: 1, 346854: 8, 346855: 2, 346856: 1, 346857: 12, 346858: 13, 346859: 7, 346860: 1, 346861: 6, 346862: 2, 346863: 1, 346864: 2, 346865: 2, 346866: 2, 346867: 12, 346868: 0, 346869: 0, 346870: 7, 346871: 1, 346872: 0, 346873: 2, 346874: 1, 346875: 0, 346876: 3, 346877: 4, 346878: 1, 346879: 1, 346880: 1, 346881: 10, 346882: 3, 346883: 0, 346884: 2, 346885: 9, 346886: 1, 346887: 1, 346888: 2, 346889: 0, 346890: 7, 346891: 2, 346892: 11, 346893: 1, 346894: 0, 346895: 0, 346896: 1, 346897: 1, 346898: 11, 346899: 3, 346900: 1, 346901: 4, 346902: 7, 346903: 1, 346904: 1, 346905: 2, 346906: 1, 346907: 0, 346908: 1, 346909: 0, 346910: 4, 346911: 1, 346912: 8, 346913: 0, 346914: 4, 346915: 1, 346916: 0, 346917: 0, 346918: 3, 346919: 2, 346920: 1, 346921: 1, 346922: 0, 346923: 2, 346924: 3, 346925: 0, 346926: 7, 346927: 4, 346928: 1, 346929: 1, 346930: 1, 346931: 2, 346932: 2, 346933: 2, 346934: 2, 346935: 9, 346936: 1, 346937: 8, 346938: 0, 346939: 3, 346940: 1, 346941: 3, 346942: 1, 346943: 0, 346944: 2, 346945: 12, 346946: 9, 346947: 1, 346948: 2, 346949: 1, 346950: 10, 346951: 2, 346952: 2, 346953: 2, 346954: 2, 346955: 0, 346956: 1, 346957: 2, 346958: 1, 346959: 0, 346960: 9, 346961: 0, 346962: 1, 346963: 11, 346964: 1, 346965: 9, 346966: 1, 346967: 7, 346968: 0, 346969: 1, 346970: 8, 346971: 1, 346972: 2, 346973: 2, 346974: 2, 346975: 15, 346976: 4, 346977: 2, 346978: 0, 346979: 1, 346980: 1, 346981: 2, 346982: 3, 346983: 1, 346984: 13, 346985: 1, 346986: 0, 346987: 9, 346988: 1, 346989: 3, 346990: 2, 346991: 6, 346992: 3, 346993: 1, 346994: 9, 346995: 3, 346996: 3, 346997: 11, 346998: 2, 346999: 7, 347000: 6, 347001: 1, 347002: 2, 347003: 0, 347004: 1, 347005: 2, 347006: 6, 347007: 1, 347008: 2, 347009: 1, 347010: 0, 347011: 0, 347012: 2, 347013: 1, 347014: 2, 347015: 0, 347016: 1, 347017: 8, 347018: 1, 347019: 1, 347020: 7, 347021: 1, 347022: 11, 347023: 3, 347024: 1, 347025: 0, 347026: 0, 347027: 1, 347028: 0, 347029: 0, 347030: 1, 347031: 0, 347032: 2, 347033: 0, 347034: 10, 347035: 2, 347036: 2, 347037: 0, 347038: 2, 347039: 2, 347040: 2, 347041: 2, 347042: 1, 347043: 0, 347044: 2, 347045: 1, 347046: 0, 347047: 7, 347048: 3, 347049: 4, 347050: 1, 347051: 7, 347052: 2, 347053: 7, 347054: 8, 347055: 2, 347056: 0, 347057: 3, 347058: 8, 347059: 1, 347060: 10, 347061: 0, 347062: 1, 347063: 5, 347064: 2, 347065: 2, 347066: 0, 347067: 1, 347068: 12, 347069: 2, 347070: 4, 347071: 3, 347072: 10, 347073: 0, 347074: 0, 347075: 1, 347076: 1, 347077: 4, 347078: 0, 347079: 1, 347080: 1, 347081: 0, 347082: 1, 347083: 2, 347084: 1, 347085: 1, 347086: 1, 347087: 5, 347088: 2, 347089: 2, 347090: 2, 347091: 6, 347092: 2, 347093: 2, 347094: 1, 347095: 5, 347096: 1, 347097: 1, 347098: 1, 347099: 1, 347100: 1, 347101: 11, 347102: 1, 347103: 9, 347104: 1, 347105: 3, 347106: 13, 347107: 7, 347108: 0, 347109: 3, 347110: 6, 347111: 11, 347112: 9, 347113: 0, 347114: 2, 347115: 2, 347116: 3, 347117: 0, 347118: 3, 347119: 2, 347120: 6, 347121: 2, 347122: 3, 347123: 3, 347124: 10, 347125: 6, 347126: 9, 347127: 3, 347128: 2, 347129: 1, 347130: 2, 347131: 0, 347132: 2, 347133: 1, 347134: 0, 347135: 1, 347136: 1, 347137: 0, 347138: 9, 347139: 0, 347140: 1, 347141: 1, 347142: 1, 347143: 2, 347144: 1, 347145: 7, 347146: 7, 347147: 1, 347148: 1, 347149: 2, 347150: 1, 347151: 4, 347152: 2, 347153: 7, 347154: 0, 347155: 6, 347156: 4, 347157: 3, 347158: 1, 347159: 0, 347160: 2, 347161: 0, 347162: 10, 347163: 0, 347164: 3, 347165: 2, 347166: 2, 347167: 3, 347168: 7, 347169: 14, 347170: 0, 347171: 6, 347172: 1, 347173: 10, 347174: 1, 347175: 3, 347176: 0, 347177: 2, 347178: 1, 347179: 4, 347180: 2, 347181: 4, 347182: 1, 347183: 1, 347184: 1, 347185: 0, 347186: 0, 347187: 7, 347188: 1, 347189: 2, 347190: 1, 347191: 0, 347192: 0, 347193: 6, 347194: 3, 347195: 0, 347196: 1, 347197: 0, 347198: 1, 347199: 0, 347200: 4, 347201: 2, 347202: 1, 347203: 5, 347204: 1, 347205: 3, 347206: 0, 347207: 4, 347208: 2, 347209: 9, 347210: 0, 347211: 11, 347212: 8, 347213: 0, 347214: 1, 347215: 10, 347216: 1, 347217: 1, 347218: 2, 347219: 0, 347220: 3, 347221: 6, 347222: 3, 347223: 2, 347224: 2, 347225: 3, 347226: 1, 347227: 1, 347228: 3, 347229: 0, 347230: 5, 347231: 1, 347232: 6, 347233: 1, 347234: 2, 347235: 1, 347236: 5, 347237: 0, 347238: 0, 347239: 2, 347240: 5, 347241: 2, 347242: 0, 347243: 7, 347244: 4, 347245: 1, 347246: 4, 347247: 4, 347248: 1, 347249: 11, 347250: 2, 347251: 6, 347252: 1, 347253: 3, 347254: 7, 347255: 1, 347256: 18, 347257: 0, 347258: 2, 347259: 8, 347260: 1, 347261: 0, 347262: 13, 347263: 10, 347264: 0, 347265: 2, 347266: 0, 347267: 1, 347268: 4, 347269: 1, 347270: 1, 347271: 1, 347272: 0, 347273: 0, 347274: 1, 347275: 4, 347276: 2, 347277: 2, 347278: 5, 347279: 6, 347280: 2, 347281: 3, 347282: 8, 347283: 2, 347284: 0, 347285: 1, 347286: 1, 347287: 0, 347288: 3, 347289: 0, 347290: 2, 347291: 12, 347292: 1, 347293: 0, 347294: 1, 347295: 4, 347296: 1, 347297: 0, 347298: 0, 347299: 0, 347300: 1, 347301: 1, 347302: 0, 347303: 0, 347304: 1, 347305: 0, 347306: 12, 347307: 2, 347308: 3, 347309: 1, 347310: 0, 347311: 2, 347312: 6, 347313: 7, 347314: 8, 347315: 1, 347316: 3, 347317: 11, 347318: 6, 347319: 3, 347320: 1, 347321: 1, 347322: 2, 347323: 0, 347324: 5, 347325: 3, 347326: 9, 347327: 1, 347328: 2, 347329: 1, 347330: 1, 347331: 0, 347332: 0, 347333: 2, 347334: 4, 347335: 0, 347336: 4, 347337: 11, 347338: 15, 347339: 0, 347340: 1, 347341: 1, 347342: 0, 347343: 11, 347344: 0, 347345: 2, 347346: 2, 347347: 0, 347348: 2, 347349: 1, 347350: 5, 347351: 0, 347352: 1, 347353: 3, 347354: 0, 347355: 1, 347356: 4, 347357: 4, 347358: 5, 347359: 9, 347360: 1, 347361: 2, 347362: 8, 347363: 3, 347364: 11, 347365: 0, 347366: 2, 347367: 0, 347368: 2, 347369: 4, 347370: 1, 347371: 1, 347372: 1, 347373: 7, 347374: 0, 347375: 1, 347376: 5, 347377: 1, 347378: 3, 347379: 0, 347380: 2, 347381: 2, 347382: 0, 347383: 2, 347384: 0, 347385: 1, 347386: 0, 347387: 1, 347388: 2, 347389: 2, 347390: 1, 347391: 2, 347392: 2, 347393: 1, 347394: 1, 347395: 3, 347396: 4, 347397: 2, 347398: 0, 347399: 13, 347400: 3, 347401: 4, 347402: 3, 347403: 1, 347404: 2, 347405: 7, 347406: 0, 347407: 2, 347408: 1, 347409: 2, 347410: 0, 347411: 5, 347412: 1, 347413: 2, 347414: 1, 347415: 3, 347416: 2, 347417: 3, 347418: 0, 347419: 0, 347420: 1, 347421: 9, 347422: 0, 347423: 2, 347424: 4, 347425: 1, 347426: 1, 347427: 0, 347428: 0, 347429: 1, 347430: 6, 347431: 7, 347432: 1, 347433: 2, 347434: 0, 347435: 5, 347436: 1, 347437: 3, 347438: 2, 347439: 1, 347440: 0, 347441: 1, 347442: 2, 347443: 3, 347444: 1, 347445: 1, 347446: 1, 347447: 8, 347448: 1, 347449: 0, 347450: 3, 347451: 2, 347452: 7, 347453: 0, 347454: 0, 347455: 3, 347456: 9, 347457: 1, 347458: 0, 347459: 10, 347460: 0, 347461: 3, 347462: 2, 347463: 0, 347464: 11, 347465: 2, 347466: 0, 347467: 1, 347468: 6, 347469: 13, 347470: 12, 347471: 0, 347472: 0, 347473: 2, 347474: 4, 347475: 2, 347476: 1, 347477: 11, 347478: 1, 347479: 1, 347480: 0, 347481: 5, 347482: 1, 347483: 0, 347484: 1, 347485: 10, 347486: 1, 347487: 1, 347488: 2, 347489: 1, 347490: 1, 347491: 5, 347492: 5, 347493: 5, 347494: 2, 347495: 0, 347496: 1, 347497: 1, 347498: 2, 347499: 1, 347500: 0, 347501: 0, 347502: 0, 347503: 3, 347504: 4, 347505: 0, 347506: 0, 347507: 2, 347508: 3, 347509: 1, 347510: 3, 347511: 2, 347512: 0, 347513: 2, 347514: 10, 347515: 1, 347516: 0, 347517: 0, 347518: 4, 347519: 0, 347520: 1, 347521: 1, 347522: 3, 347523: 8, 347524: 1, 347525: 1, 347526: 0, 347527: 2, 347528: 3, 347529: 5, 347530: 0, 347531: 1, 347532: 0, 347533: 3, 347534: 1, 347535: 0, 347536: 0, 347537: 2, 347538: 2, 347539: 11, 347540: 0, 347541: 1, 347542: 0, 347543: 0, 347544: 2, 347545: 1, 347546: 1, 347547: 1, 347548: 2, 347549: 6, 347550: 9, 347551: 3, 347552: 1, 347553: 1, 347554: 1, 347555: 2, 347556: 5, 347557: 4, 347558: 0, 347559: 3, 347560: 1, 347561: 1, 347562: 0, 347563: 0, 347564: 2, 347565: 1, 347566: 0, 347567: 3, 347568: 0, 347569: 2, 347570: 2, 347571: 2, 347572: 7, 347573: 0, 347574: 4, 347575: 2, 347576: 10, 347577: 1, 347578: 0, 347579: 5, 347580: 1, 347581: 1, 347582: 0, 347583: 7, 347584: 2, 347585: 11, 347586: 0, 347587: 1, 347588: 1, 347589: 7, 347590: 4, 347591: 2, 347592: 10, 347593: 2, 347594: 8, 347595: 0, 347596: 1, 347597: 0, 347598: 3, 347599: 2, 347600: 1, 347601: 2, 347602: 2, 347603: 1, 347604: 7, 347605: 0, 347606: 9, 347607: 1, 347608: 10, 347609: 10, 347610: 0, 347611: 2, 347612: 1, 347613: 2, 347614: 0, 347615: 2, 347616: 2, 347617: 0, 347618: 2, 347619: 2, 347620: 2, 347621: 9, 347622: 4, 347623: 2, 347624: 2, 347625: 0, 347626: 1, 347627: 1, 347628: 1, 347629: 1, 347630: 0, 347631: 2, 347632: 2, 347633: 0, 347634: 1, 347635: 2, 347636: 0, 347637: 1, 347638: 2, 347639: 2, 347640: 1, 347641: 5, 347642: 2, 347643: 1, 347644: 2, 347645: 2, 347646: 11, 347647: 0, 347648: 1, 347649: 2, 347650: 0, 347651: 2, 347652: 1, 347653: 0, 347654: 0, 347655: 1, 347656: 0, 347657: 4, 347658: 0, 347659: 0, 347660: 0, 347661: 3, 347662: 0, 347663: 2, 347664: 5, 347665: 1, 347666: 1, 347667: 0, 347668: 0, 347669: 0, 347670: 2, 347671: 1, 347672: 0, 347673: 1, 347674: 3, 347675: 1, 347676: 1, 347677: 1, 347678: 6, 347679: 0, 347680: 2, 347681: 3, 347682: 3, 347683: 2, 347684: 3, 347685: 2, 347686: 1, 347687: 1, 347688: 1, 347689: 2, 347690: 2, 347691: 1, 347692: 1, 347693: 1, 347694: 0, 347695: 2, 347696: 2, 347697: 2, 347698: 0, 347699: 0, 347700: 3, 347701: 2, 347702: 1, 347703: 0, 347704: 1, 347705: 2, 347706: 0, 347707: 2, 347708: 1, 347709: 2, 347710: 1, 347711: 2, 347712: 2, 347713: 1, 347714: 1, 347715: 1, 347716: 8, 347717: 2, 347718: 1, 347719: 3, 347720: 0, 347721: 1, 347722: 2, 347723: 2, 347724: 5, 347725: 1, 347726: 1, 347727: 1, 347728: 7, 347729: 1, 347730: 0, 347731: 1}\n"
     ]
    }
   ],
   "source": [
    "#calculate the total number of logins for each customer in the first week\n",
    "log_data = open('engagement_report.log', 'r').readlines()\n",
    "\n",
    "i=0\n",
    "log_dict={}\n",
    "while(i<=6649):\n",
    "    visits_list=[]\n",
    "    if(i<6644):\n",
    "        for j in range (i,i+7):\n",
    "            log_list= log_data[j].split(' ')\n",
    "            visits_list.append(int(log_list[4]))\n",
    "        log_dict[int(log_list[1])] = sum(visits_list)\n",
    "        i+=7\n",
    "        continue\n",
    "    else:\n",
    "        log_last_customer=log_data[i:]\n",
    "        for j in log_last_customer:\n",
    "            log_list= j.split(' ')\n",
    "            visits_list.append(int(log_list[4]))\n",
    "        log_dict[int(log_list[1])] = sum(visits_list)\n",
    "        break\n",
    "#print(log_dict)"
   ]
  },
  {
   "cell_type": "code",
   "execution_count": 46,
   "metadata": {
    "collapsed": false
   },
   "outputs": [
    {
     "name": "stdout",
     "output_type": "stream",
     "text": [
      "OrderedDict([(346782, 3), (346783, 0), (346784, 7), (346785, 0), (346786, 0), (346787, 1), (346788, 0), (346789, 0), (346790, 0), (346791, 2), (346792, 7), (346793, 0), (346794, 1), (346795, 2), (346796, 11), (346797, 2), (346798, 1), (346799, 2), (346800, 1), (346801, 1), (346802, 2), (346803, 6), (346804, 0), (346805, 5), (346806, 1), (346807, 2), (346808, 4), (346809, 0), (346810, 1), (346811, 0), (346812, 2), (346813, 0), (346814, 1), (346815, 1), (346816, 9), (346817, 4), (346818, 2), (346819, 11), (346820, 2), (346821, 4), (346822, 3), (346823, 1), (346824, 1), (346825, 1), (346826, 2), (346827, 11), (346828, 2), (346829, 1), (346830, 2), (346831, 0), (346832, 2), (346833, 1), (346834, 12), (346835, 1), (346836, 2), (346837, 3), (346838, 0), (346839, 1), (346840, 1), (346841, 1), (346842, 1), (346843, 3), (346844, 1), (346845, 3), (346846, 0), (346847, 10), (346848, 7), (346849, 2), (346850, 2), (346851, 1), (346852, 3), (346853, 1), (346854, 8), (346855, 2), (346856, 1), (346857, 12), (346858, 13), (346859, 7), (346860, 1), (346861, 6), (346862, 2), (346863, 1), (346864, 2), (346865, 2), (346866, 2), (346867, 12), (346868, 0), (346869, 0), (346870, 7), (346871, 1), (346872, 0), (346873, 2), (346874, 1), (346875, 0), (346876, 3), (346877, 4), (346878, 1), (346879, 1), (346880, 1), (346881, 10), (346882, 3), (346883, 0), (346884, 2), (346885, 9), (346886, 1), (346887, 1), (346888, 2), (346889, 0), (346890, 7), (346891, 2), (346892, 11), (346893, 1), (346894, 0), (346895, 0), (346896, 1), (346897, 1), (346898, 11), (346899, 3), (346900, 1), (346901, 4), (346902, 7), (346903, 1), (346904, 1), (346905, 2), (346906, 1), (346907, 0), (346908, 1), (346909, 0), (346910, 4), (346911, 1), (346912, 8), (346913, 0), (346914, 4), (346915, 1), (346916, 0), (346917, 0), (346918, 3), (346919, 2), (346920, 1), (346921, 1), (346922, 0), (346923, 2), (346924, 3), (346925, 0), (346926, 7), (346927, 4), (346928, 1), (346929, 1), (346930, 1), (346931, 2), (346932, 2), (346933, 2), (346934, 2), (346935, 9), (346936, 1), (346937, 8), (346938, 0), (346939, 3), (346940, 1), (346941, 3), (346942, 1), (346943, 0), (346944, 2), (346945, 12), (346946, 9), (346947, 1), (346948, 2), (346949, 1), (346950, 10), (346951, 2), (346952, 2), (346953, 2), (346954, 2), (346955, 0), (346956, 1), (346957, 2), (346958, 1), (346959, 0), (346960, 9), (346961, 0), (346962, 1), (346963, 11), (346964, 1), (346965, 9), (346966, 1), (346967, 7), (346968, 0), (346969, 1), (346970, 8), (346971, 1), (346972, 2), (346973, 2), (346974, 2), (346975, 15), (346976, 4), (346977, 2), (346978, 0), (346979, 1), (346980, 1), (346981, 2), (346982, 3), (346983, 1), (346984, 13), (346985, 1), (346986, 0), (346987, 9), (346988, 1), (346989, 3), (346990, 2), (346991, 6), (346992, 3), (346993, 1), (346994, 9), (346995, 3), (346996, 3), (346997, 11), (346998, 2), (346999, 7), (347000, 6), (347001, 1), (347002, 2), (347003, 0), (347004, 1), (347005, 2), (347006, 6), (347007, 1), (347008, 2), (347009, 1), (347010, 0), (347011, 0), (347012, 2), (347013, 1), (347014, 2), (347015, 0), (347016, 1), (347017, 8), (347018, 1), (347019, 1), (347020, 7), (347021, 1), (347022, 11), (347023, 3), (347024, 1), (347025, 0), (347026, 0), (347027, 1), (347028, 0), (347029, 0), (347030, 1), (347031, 0), (347032, 2), (347033, 0), (347034, 10), (347035, 2), (347036, 2), (347037, 0), (347038, 2), (347039, 2), (347040, 2), (347041, 2), (347042, 1), (347043, 0), (347044, 2), (347045, 1), (347046, 0), (347047, 7), (347048, 3), (347049, 4), (347050, 1), (347051, 7), (347052, 2), (347053, 7), (347054, 8), (347055, 2), (347056, 0), (347057, 3), (347058, 8), (347059, 1), (347060, 10), (347061, 0), (347062, 1), (347063, 5), (347064, 2), (347065, 2), (347066, 0), (347067, 1), (347068, 12), (347069, 2), (347070, 4), (347071, 3), (347072, 10), (347073, 0), (347074, 0), (347075, 1), (347076, 1), (347077, 4), (347078, 0), (347079, 1), (347080, 1), (347081, 0), (347082, 1), (347083, 2), (347084, 1), (347085, 1), (347086, 1), (347087, 5), (347088, 2), (347089, 2), (347090, 2), (347091, 6), (347092, 2), (347093, 2), (347094, 1), (347095, 5), (347096, 1), (347097, 1), (347098, 1), (347099, 1), (347100, 1), (347101, 11), (347102, 1), (347103, 9), (347104, 1), (347105, 3), (347106, 13), (347107, 7), (347108, 0), (347109, 3), (347110, 6), (347111, 11), (347112, 9), (347113, 0), (347114, 2), (347115, 2), (347116, 3), (347117, 0), (347118, 3), (347119, 2), (347120, 6), (347121, 2), (347122, 3), (347123, 3), (347124, 10), (347125, 6), (347126, 9), (347127, 3), (347128, 2), (347129, 1), (347130, 2), (347131, 0), (347132, 2), (347133, 1), (347134, 0), (347135, 1), (347136, 1), (347137, 0), (347138, 9), (347139, 0), (347140, 1), (347141, 1), (347142, 1), (347143, 2), (347144, 1), (347145, 7), (347146, 7), (347147, 1), (347148, 1), (347149, 2), (347150, 1), (347151, 4), (347152, 2), (347153, 7), (347154, 0), (347155, 6), (347156, 4), (347157, 3), (347158, 1), (347159, 0), (347160, 2), (347161, 0), (347162, 10), (347163, 0), (347164, 3), (347165, 2), (347166, 2), (347167, 3), (347168, 7), (347169, 14), (347170, 0), (347171, 6), (347172, 1), (347173, 10), (347174, 1), (347175, 3), (347176, 0), (347177, 2), (347178, 1), (347179, 4), (347180, 2), (347181, 4), (347182, 1), (347183, 1), (347184, 1), (347185, 0), (347186, 0), (347187, 7), (347188, 1), (347189, 2), (347190, 1), (347191, 0), (347192, 0), (347193, 6), (347194, 3), (347195, 0), (347196, 1), (347197, 0), (347198, 1), (347199, 0), (347200, 4), (347201, 2), (347202, 1), (347203, 5), (347204, 1), (347205, 3), (347206, 0), (347207, 4), (347208, 2), (347209, 9), (347210, 0), (347211, 11), (347212, 8), (347213, 0), (347214, 1), (347215, 10), (347216, 1), (347217, 1), (347218, 2), (347219, 0), (347220, 3), (347221, 6), (347222, 3), (347223, 2), (347224, 2), (347225, 3), (347226, 1), (347227, 1), (347228, 3), (347229, 0), (347230, 5), (347231, 1), (347232, 6), (347233, 1), (347234, 2), (347235, 1), (347236, 5), (347237, 0), (347238, 0), (347239, 2), (347240, 5), (347241, 2), (347242, 0), (347243, 7), (347244, 4), (347245, 1), (347246, 4), (347247, 4), (347248, 1), (347249, 11), (347250, 2), (347251, 6), (347252, 1), (347253, 3), (347254, 7), (347255, 1), (347256, 18), (347257, 0), (347258, 2), (347259, 8), (347260, 1), (347261, 0), (347262, 13), (347263, 10), (347264, 0), (347265, 2), (347266, 0), (347267, 1), (347268, 4), (347269, 1), (347270, 1), (347271, 1), (347272, 0), (347273, 0), (347274, 1), (347275, 4), (347276, 2), (347277, 2), (347278, 5), (347279, 6), (347280, 2), (347281, 3), (347282, 8), (347283, 2), (347284, 0), (347285, 1), (347286, 1), (347287, 0), (347288, 3), (347289, 0), (347290, 2), (347291, 12), (347292, 1), (347293, 0), (347294, 1), (347295, 4), (347296, 1), (347297, 0), (347298, 0), (347299, 0), (347300, 1), (347301, 1), (347302, 0), (347303, 0), (347304, 1), (347305, 0), (347306, 12), (347307, 2), (347308, 3), (347309, 1), (347310, 0), (347311, 2), (347312, 6), (347313, 7), (347314, 8), (347315, 1), (347316, 3), (347317, 11), (347318, 6), (347319, 3), (347320, 1), (347321, 1), (347322, 2), (347323, 0), (347324, 5), (347325, 3), (347326, 9), (347327, 1), (347328, 2), (347329, 1), (347330, 1), (347331, 0), (347332, 0), (347333, 2), (347334, 4), (347335, 0), (347336, 4), (347337, 11), (347338, 15), (347339, 0), (347340, 1), (347341, 1), (347342, 0), (347343, 11), (347344, 0), (347345, 2), (347346, 2), (347347, 0), (347348, 2), (347349, 1), (347350, 5), (347351, 0), (347352, 1), (347353, 3), (347354, 0), (347355, 1), (347356, 4), (347357, 4), (347358, 5), (347359, 9), (347360, 1), (347361, 2), (347362, 8), (347363, 3), (347364, 11), (347365, 0), (347366, 2), (347367, 0), (347368, 2), (347369, 4), (347370, 1), (347371, 1), (347372, 1), (347373, 7), (347374, 0), (347375, 1), (347376, 5), (347377, 1), (347378, 3), (347379, 0), (347380, 2), (347381, 2), (347382, 0), (347383, 2), (347384, 0), (347385, 1), (347386, 0), (347387, 1), (347388, 2), (347389, 2), (347390, 1), (347391, 2), (347392, 2), (347393, 1), (347394, 1), (347395, 3), (347396, 4), (347397, 2), (347398, 0), (347399, 13), (347400, 3), (347401, 4), (347402, 3), (347403, 1), (347404, 2), (347405, 7), (347406, 0), (347407, 2), (347408, 1), (347409, 2), (347410, 0), (347411, 5), (347412, 1), (347413, 2), (347414, 1), (347415, 3), (347416, 2), (347417, 3), (347418, 0), (347419, 0), (347420, 1), (347421, 9), (347422, 0), (347423, 2), (347424, 4), (347425, 1), (347426, 1), (347427, 0), (347428, 0), (347429, 1), (347430, 6), (347431, 7), (347432, 1), (347433, 2), (347434, 0), (347435, 5), (347436, 1), (347437, 3), (347438, 2), (347439, 1), (347440, 0), (347441, 1), (347442, 2), (347443, 3), (347444, 1), (347445, 1), (347446, 1), (347447, 8), (347448, 1), (347449, 0), (347450, 3), (347451, 2), (347452, 7), (347453, 0), (347454, 0), (347455, 3), (347456, 9), (347457, 1), (347458, 0), (347459, 10), (347460, 0), (347461, 3), (347462, 2), (347463, 0), (347464, 11), (347465, 2), (347466, 0), (347467, 1), (347468, 6), (347469, 13), (347470, 12), (347471, 0), (347472, 0), (347473, 2), (347474, 4), (347475, 2), (347476, 1), (347477, 11), (347478, 1), (347479, 1), (347480, 0), (347481, 5), (347482, 1), (347483, 0), (347484, 1), (347485, 10), (347486, 1), (347487, 1), (347488, 2), (347489, 1), (347490, 1), (347491, 5), (347492, 5), (347493, 5), (347494, 2), (347495, 0), (347496, 1), (347497, 1), (347498, 2), (347499, 1), (347500, 0), (347501, 0), (347502, 0), (347503, 3), (347504, 4), (347505, 0), (347506, 0), (347507, 2), (347508, 3), (347509, 1), (347510, 3), (347511, 2), (347512, 0), (347513, 2), (347514, 10), (347515, 1), (347516, 0), (347517, 0), (347518, 4), (347519, 0), (347520, 1), (347521, 1), (347522, 3), (347523, 8), (347524, 1), (347525, 1), (347526, 0), (347527, 2), (347528, 3), (347529, 5), (347530, 0), (347531, 1), (347532, 0), (347533, 3), (347534, 1), (347535, 0), (347536, 0), (347537, 2), (347538, 2), (347539, 11), (347540, 0), (347541, 1), (347542, 0), (347543, 0), (347544, 2), (347545, 1), (347546, 1), (347547, 1), (347548, 2), (347549, 6), (347550, 9), (347551, 3), (347552, 1), (347553, 1), (347554, 1), (347555, 2), (347556, 5), (347557, 4), (347558, 0), (347559, 3), (347560, 1), (347561, 1), (347562, 0), (347563, 0), (347564, 2), (347565, 1), (347566, 0), (347567, 3), (347568, 0), (347569, 2), (347570, 2), (347571, 2), (347572, 7), (347573, 0), (347574, 4), (347575, 2), (347576, 10), (347577, 1), (347578, 0), (347579, 5), (347580, 1), (347581, 1), (347582, 0), (347583, 7), (347584, 2), (347585, 11), (347586, 0), (347587, 1), (347588, 1), (347589, 7), (347590, 4), (347591, 2), (347592, 10), (347593, 2), (347594, 8), (347595, 0), (347596, 1), (347597, 0), (347598, 3), (347599, 2), (347600, 1), (347601, 2), (347602, 2), (347603, 1), (347604, 7), (347605, 0), (347606, 9), (347607, 1), (347608, 10), (347609, 10), (347610, 0), (347611, 2), (347612, 1), (347613, 2), (347614, 0), (347615, 2), (347616, 2), (347617, 0), (347618, 2), (347619, 2), (347620, 2), (347621, 9), (347622, 4), (347623, 2), (347624, 2), (347625, 0), (347626, 1), (347627, 1), (347628, 1), (347629, 1), (347630, 0), (347631, 2), (347632, 2), (347633, 0), (347634, 1), (347635, 2), (347636, 0), (347637, 1), (347638, 2), (347639, 2), (347640, 1), (347641, 5), (347642, 2), (347643, 1), (347644, 2), (347645, 2), (347646, 11), (347647, 0), (347648, 1), (347649, 2), (347650, 0), (347651, 2), (347652, 1), (347653, 0), (347654, 0), (347655, 1), (347656, 0), (347657, 4), (347658, 0), (347659, 0), (347660, 0), (347661, 3), (347662, 0), (347663, 2), (347664, 5), (347665, 1), (347666, 1), (347667, 0), (347668, 0), (347669, 0), (347670, 2), (347671, 1), (347672, 0), (347673, 1), (347674, 3), (347675, 1), (347676, 1), (347677, 1), (347678, 6), (347679, 0), (347680, 2), (347681, 3), (347682, 3), (347683, 2), (347684, 3), (347685, 2), (347686, 1), (347687, 1), (347688, 1), (347689, 2), (347690, 2), (347691, 1), (347692, 1), (347693, 1), (347694, 0), (347695, 2), (347696, 2), (347697, 2), (347698, 0), (347699, 0), (347700, 3), (347701, 2), (347702, 1), (347703, 0), (347704, 1), (347705, 2), (347706, 0), (347707, 2), (347708, 1), (347709, 2), (347710, 1), (347711, 2), (347712, 2), (347713, 1), (347714, 1), (347715, 1), (347716, 8), (347717, 2), (347718, 1), (347719, 3), (347720, 0), (347721, 1), (347722, 2), (347723, 2), (347724, 5), (347725, 1), (347726, 1), (347727, 1), (347728, 7), (347729, 1), (347730, 0), (347731, 1)])\n"
     ]
    }
   ],
   "source": [
    "log_dict = collections.OrderedDict(sorted(log_dict.items()))\n",
    "print(log_dict)"
   ]
  },
  {
   "cell_type": "code",
   "execution_count": 167,
   "metadata": {
    "collapsed": false
   },
   "outputs": [
    {
     "data": {
      "text/html": [
       "<div>\n",
       "<table border=\"1\" class=\"dataframe\">\n",
       "  <thead>\n",
       "    <tr style=\"text-align: right;\">\n",
       "      <th></th>\n",
       "      <th>company</th>\n",
       "      <th>number_of_visits</th>\n",
       "    </tr>\n",
       "  </thead>\n",
       "  <tbody>\n",
       "    <tr>\n",
       "      <th>0</th>\n",
       "      <td>346782</td>\n",
       "      <td>3</td>\n",
       "    </tr>\n",
       "    <tr>\n",
       "      <th>1</th>\n",
       "      <td>346783</td>\n",
       "      <td>0</td>\n",
       "    </tr>\n",
       "    <tr>\n",
       "      <th>2</th>\n",
       "      <td>346784</td>\n",
       "      <td>7</td>\n",
       "    </tr>\n",
       "    <tr>\n",
       "      <th>3</th>\n",
       "      <td>346785</td>\n",
       "      <td>0</td>\n",
       "    </tr>\n",
       "    <tr>\n",
       "      <th>4</th>\n",
       "      <td>346786</td>\n",
       "      <td>0</td>\n",
       "    </tr>\n",
       "  </tbody>\n",
       "</table>\n",
       "</div>"
      ],
      "text/plain": [
       "   company  number_of_visits\n",
       "0   346782                 3\n",
       "1   346783                 0\n",
       "2   346784                 7\n",
       "3   346785                 0\n",
       "4   346786                 0"
      ]
     },
     "execution_count": 167,
     "metadata": {},
     "output_type": "execute_result"
    }
   ],
   "source": [
    "log_df= pd.DataFrame(list(log_dict.items()), columns=['company','number_of_visits'])\n",
    "log_df.head()"
   ]
  },
  {
   "cell_type": "code",
   "execution_count": 168,
   "metadata": {
    "collapsed": true
   },
   "outputs": [],
   "source": [
    "X = customer_data.drop('subscribed_after_free_trial', axis=1)\n",
    "Y = customer_data['subscribed_after_free_trial']"
   ]
  },
  {
   "cell_type": "code",
   "execution_count": 169,
   "metadata": {
    "collapsed": false
   },
   "outputs": [
    {
     "name": "stdout",
     "output_type": "stream",
     "text": [
      "   company        company_type\n",
      "0   346782  uk_limited_company\n",
      "1   346783  uk_limited_company\n",
      "2   346784  uk_limited_company\n",
      "3   346785  uk_limited_company\n",
      "4   346786  uk_limited_company\n",
      "0    False\n",
      "1    False\n",
      "2     True\n",
      "3    False\n",
      "4    False\n",
      "Name: subscribed_after_free_trial, dtype: bool\n"
     ]
    }
   ],
   "source": [
    "print(X.head())\n",
    "print(Y.head())"
   ]
  },
  {
   "cell_type": "code",
   "execution_count": 170,
   "metadata": {
    "collapsed": false
   },
   "outputs": [
    {
     "name": "stdout",
     "output_type": "stream",
     "text": [
      "<class 'pandas.core.series.Series'>\n"
     ]
    }
   ],
   "source": [
    "print(type(Y))"
   ]
  },
  {
   "cell_type": "code",
   "execution_count": 171,
   "metadata": {
    "collapsed": true
   },
   "outputs": [],
   "source": [
    "Y=pd.DataFrame(Y)"
   ]
  },
  {
   "cell_type": "code",
   "execution_count": 181,
   "metadata": {
    "collapsed": false
   },
   "outputs": [
    {
     "data": {
      "text/html": [
       "<div>\n",
       "<table border=\"1\" class=\"dataframe\">\n",
       "  <thead>\n",
       "    <tr style=\"text-align: right;\">\n",
       "      <th></th>\n",
       "      <th>company</th>\n",
       "      <th>company_type</th>\n",
       "      <th>number_of_visits</th>\n",
       "    </tr>\n",
       "  </thead>\n",
       "  <tbody>\n",
       "    <tr>\n",
       "      <th>0</th>\n",
       "      <td>346782</td>\n",
       "      <td>uk_limited_company</td>\n",
       "      <td>3</td>\n",
       "    </tr>\n",
       "    <tr>\n",
       "      <th>1</th>\n",
       "      <td>346783</td>\n",
       "      <td>uk_limited_company</td>\n",
       "      <td>0</td>\n",
       "    </tr>\n",
       "    <tr>\n",
       "      <th>2</th>\n",
       "      <td>346784</td>\n",
       "      <td>uk_limited_company</td>\n",
       "      <td>7</td>\n",
       "    </tr>\n",
       "    <tr>\n",
       "      <th>3</th>\n",
       "      <td>346785</td>\n",
       "      <td>uk_limited_company</td>\n",
       "      <td>0</td>\n",
       "    </tr>\n",
       "    <tr>\n",
       "      <th>4</th>\n",
       "      <td>346786</td>\n",
       "      <td>uk_limited_company</td>\n",
       "      <td>0</td>\n",
       "    </tr>\n",
       "  </tbody>\n",
       "</table>\n",
       "</div>"
      ],
      "text/plain": [
       "   company        company_type  number_of_visits\n",
       "0   346782  uk_limited_company                 3\n",
       "1   346783  uk_limited_company                 0\n",
       "2   346784  uk_limited_company                 7\n",
       "3   346785  uk_limited_company                 0\n",
       "4   346786  uk_limited_company                 0"
      ]
     },
     "execution_count": 181,
     "metadata": {},
     "output_type": "execute_result"
    }
   ],
   "source": [
    "#merging the dataframes\n",
    "customer_log_df = pd.merge(X, log_df, on='company')\n",
    "customer_log_df.head()"
   ]
  },
  {
   "cell_type": "code",
   "execution_count": 182,
   "metadata": {
    "collapsed": false
   },
   "outputs": [
    {
     "data": {
      "text/plain": [
       "(950, 3)"
      ]
     },
     "execution_count": 182,
     "metadata": {},
     "output_type": "execute_result"
    }
   ],
   "source": [
    "customer_log_df.shape"
   ]
  },
  {
   "cell_type": "code",
   "execution_count": 183,
   "metadata": {
    "collapsed": false
   },
   "outputs": [
    {
     "data": {
      "text/html": [
       "<div>\n",
       "<table border=\"1\" class=\"dataframe\">\n",
       "  <thead>\n",
       "    <tr style=\"text-align: right;\">\n",
       "      <th></th>\n",
       "      <th>company</th>\n",
       "      <th>company_type</th>\n",
       "      <th>number_of_visits</th>\n",
       "      <th>subscribed_after_free_trial</th>\n",
       "    </tr>\n",
       "  </thead>\n",
       "  <tbody>\n",
       "    <tr>\n",
       "      <th>0</th>\n",
       "      <td>346782</td>\n",
       "      <td>uk_limited_company</td>\n",
       "      <td>3</td>\n",
       "      <td>False</td>\n",
       "    </tr>\n",
       "    <tr>\n",
       "      <th>1</th>\n",
       "      <td>346783</td>\n",
       "      <td>uk_limited_company</td>\n",
       "      <td>0</td>\n",
       "      <td>False</td>\n",
       "    </tr>\n",
       "    <tr>\n",
       "      <th>2</th>\n",
       "      <td>346784</td>\n",
       "      <td>uk_limited_company</td>\n",
       "      <td>7</td>\n",
       "      <td>True</td>\n",
       "    </tr>\n",
       "    <tr>\n",
       "      <th>3</th>\n",
       "      <td>346785</td>\n",
       "      <td>uk_limited_company</td>\n",
       "      <td>0</td>\n",
       "      <td>False</td>\n",
       "    </tr>\n",
       "    <tr>\n",
       "      <th>4</th>\n",
       "      <td>346786</td>\n",
       "      <td>uk_limited_company</td>\n",
       "      <td>0</td>\n",
       "      <td>False</td>\n",
       "    </tr>\n",
       "  </tbody>\n",
       "</table>\n",
       "</div>"
      ],
      "text/plain": [
       "   company        company_type  number_of_visits subscribed_after_free_trial\n",
       "0   346782  uk_limited_company                 3                       False\n",
       "1   346783  uk_limited_company                 0                       False\n",
       "2   346784  uk_limited_company                 7                        True\n",
       "3   346785  uk_limited_company                 0                       False\n",
       "4   346786  uk_limited_company                 0                       False"
      ]
     },
     "execution_count": 183,
     "metadata": {},
     "output_type": "execute_result"
    }
   ],
   "source": [
    "#merging the target back\n",
    "customer_log_df = pd.merge(customer_log_df, Y, how='inner', left_index=True, right_index=True)\n",
    "customer_log_df.head()"
   ]
  },
  {
   "cell_type": "code",
   "execution_count": 184,
   "metadata": {
    "collapsed": false
   },
   "outputs": [
    {
     "data": {
      "text/plain": [
       "(950, 4)"
      ]
     },
     "execution_count": 184,
     "metadata": {},
     "output_type": "execute_result"
    }
   ],
   "source": [
    "customer_log_df.shape"
   ]
  },
  {
   "cell_type": "markdown",
   "metadata": {},
   "source": [
    "Now, there are 950 instances and 4 features including the target feature."
   ]
  },
  {
   "cell_type": "markdown",
   "metadata": {},
   "source": [
    "# Feature Engineering"
   ]
  },
  {
   "cell_type": "markdown",
   "metadata": {},
   "source": [
    "There are 2 nominal categorical attributes ('company_type' and 'subscribed_after_free_trial') which need to be converted into numerical format in order to implement the ML algorithms."
   ]
  },
  {
   "cell_type": "code",
   "execution_count": 176,
   "metadata": {
    "collapsed": true
   },
   "outputs": [],
   "source": [
    "#Label Encoder\n",
    "#converting the 'subscribed_after_free_trial' attribute into 0s and 1s.\n",
    "Class= customer_log_df['subscribed_after_free_trial'].astype('category').cat.codes"
   ]
  },
  {
   "cell_type": "code",
   "execution_count": 71,
   "metadata": {
    "collapsed": false
   },
   "outputs": [
    {
     "name": "stdout",
     "output_type": "stream",
     "text": [
      "0      0\n",
      "1      0\n",
      "2      1\n",
      "3      0\n",
      "4      0\n",
      "5      0\n",
      "6      0\n",
      "7      0\n",
      "8      0\n",
      "9      0\n",
      "10     1\n",
      "11     0\n",
      "12     0\n",
      "13     0\n",
      "14     1\n",
      "15     0\n",
      "16     0\n",
      "17     0\n",
      "18     0\n",
      "19     0\n",
      "20     0\n",
      "21     1\n",
      "22     0\n",
      "23     1\n",
      "24     0\n",
      "25     0\n",
      "26     0\n",
      "27     0\n",
      "28     0\n",
      "29     0\n",
      "      ..\n",
      "920    0\n",
      "921    0\n",
      "922    0\n",
      "923    0\n",
      "924    0\n",
      "925    0\n",
      "926    0\n",
      "927    0\n",
      "928    0\n",
      "929    0\n",
      "930    0\n",
      "931    0\n",
      "932    0\n",
      "933    0\n",
      "934    1\n",
      "935    0\n",
      "936    0\n",
      "937    0\n",
      "938    0\n",
      "939    0\n",
      "940    0\n",
      "941    0\n",
      "942    0\n",
      "943    0\n",
      "944    0\n",
      "945    0\n",
      "946    1\n",
      "947    0\n",
      "948    0\n",
      "949    0\n",
      "dtype: int8\n"
     ]
    }
   ],
   "source": [
    "#Here '0' means 'False',i.e., 'Not Subscribed'  and '1' means True, i.e. 'Subscribed'\n",
    "print(Class)"
   ]
  },
  {
   "cell_type": "code",
   "execution_count": 177,
   "metadata": {
    "collapsed": false
   },
   "outputs": [
    {
     "data": {
      "text/plain": [
       "uk_limited_company    500\n",
       "uk_sole_trader        350\n",
       "universal_company     100\n",
       "Name: company_type, dtype: int64"
      ]
     },
     "execution_count": 177,
     "metadata": {},
     "output_type": "execute_result"
    }
   ],
   "source": [
    "#Transforming categorical attribute 'company_type'\n",
    "customer_log_df.company_type.value_counts()"
   ]
  },
  {
   "cell_type": "markdown",
   "metadata": {},
   "source": [
    "Thus, we have 3 distinct values for the attribute 'company_type'. So, each category can be encoded into a numeric value."
   ]
  },
  {
   "cell_type": "code",
   "execution_count": 185,
   "metadata": {
    "collapsed": false
   },
   "outputs": [
    {
     "data": {
      "text/html": [
       "<div>\n",
       "<table border=\"1\" class=\"dataframe\">\n",
       "  <thead>\n",
       "    <tr style=\"text-align: right;\">\n",
       "      <th></th>\n",
       "      <th>company</th>\n",
       "      <th>company_type</th>\n",
       "      <th>number_of_visits</th>\n",
       "      <th>subscribed_after_free_trial</th>\n",
       "      <th>company_type_uk_limited_company</th>\n",
       "      <th>company_type_uk_sole_trader</th>\n",
       "      <th>company_type_universal_company</th>\n",
       "    </tr>\n",
       "  </thead>\n",
       "  <tbody>\n",
       "    <tr>\n",
       "      <th>0</th>\n",
       "      <td>346782</td>\n",
       "      <td>uk_limited_company</td>\n",
       "      <td>3</td>\n",
       "      <td>False</td>\n",
       "      <td>1.0</td>\n",
       "      <td>0.0</td>\n",
       "      <td>0.0</td>\n",
       "    </tr>\n",
       "    <tr>\n",
       "      <th>1</th>\n",
       "      <td>346783</td>\n",
       "      <td>uk_limited_company</td>\n",
       "      <td>0</td>\n",
       "      <td>False</td>\n",
       "      <td>1.0</td>\n",
       "      <td>0.0</td>\n",
       "      <td>0.0</td>\n",
       "    </tr>\n",
       "    <tr>\n",
       "      <th>2</th>\n",
       "      <td>346784</td>\n",
       "      <td>uk_limited_company</td>\n",
       "      <td>7</td>\n",
       "      <td>True</td>\n",
       "      <td>1.0</td>\n",
       "      <td>0.0</td>\n",
       "      <td>0.0</td>\n",
       "    </tr>\n",
       "    <tr>\n",
       "      <th>3</th>\n",
       "      <td>346785</td>\n",
       "      <td>uk_limited_company</td>\n",
       "      <td>0</td>\n",
       "      <td>False</td>\n",
       "      <td>1.0</td>\n",
       "      <td>0.0</td>\n",
       "      <td>0.0</td>\n",
       "    </tr>\n",
       "    <tr>\n",
       "      <th>4</th>\n",
       "      <td>346786</td>\n",
       "      <td>uk_limited_company</td>\n",
       "      <td>0</td>\n",
       "      <td>False</td>\n",
       "      <td>1.0</td>\n",
       "      <td>0.0</td>\n",
       "      <td>0.0</td>\n",
       "    </tr>\n",
       "  </tbody>\n",
       "</table>\n",
       "</div>"
      ],
      "text/plain": [
       "   company        company_type  number_of_visits subscribed_after_free_trial  \\\n",
       "0   346782  uk_limited_company                 3                       False   \n",
       "1   346783  uk_limited_company                 0                       False   \n",
       "2   346784  uk_limited_company                 7                        True   \n",
       "3   346785  uk_limited_company                 0                       False   \n",
       "4   346786  uk_limited_company                 0                       False   \n",
       "\n",
       "   company_type_uk_limited_company  company_type_uk_sole_trader  \\\n",
       "0                              1.0                          0.0   \n",
       "1                              1.0                          0.0   \n",
       "2                              1.0                          0.0   \n",
       "3                              1.0                          0.0   \n",
       "4                              1.0                          0.0   \n",
       "\n",
       "   company_type_universal_company  \n",
       "0                             0.0  \n",
       "1                             0.0  \n",
       "2                             0.0  \n",
       "3                             0.0  \n",
       "4                             0.0  "
      ]
     },
     "execution_count": 185,
     "metadata": {},
     "output_type": "execute_result"
    }
   ],
   "source": [
    "#one-hot encoding\n",
    "customer_log_df = pd.concat([customer_log_df,pd.get_dummies(customer_log_df['company_type'], prefix='company_type')],axis=1)\n",
    "customer_log_df.head()"
   ]
  },
  {
   "cell_type": "code",
   "execution_count": 186,
   "metadata": {
    "collapsed": false
   },
   "outputs": [
    {
     "data": {
      "text/html": [
       "<div>\n",
       "<table border=\"1\" class=\"dataframe\">\n",
       "  <thead>\n",
       "    <tr style=\"text-align: right;\">\n",
       "      <th></th>\n",
       "      <th>company</th>\n",
       "      <th>number_of_visits</th>\n",
       "      <th>company_type_uk_limited_company</th>\n",
       "      <th>company_type_uk_sole_trader</th>\n",
       "      <th>company_type_universal_company</th>\n",
       "    </tr>\n",
       "  </thead>\n",
       "  <tbody>\n",
       "    <tr>\n",
       "      <th>0</th>\n",
       "      <td>346782</td>\n",
       "      <td>3</td>\n",
       "      <td>1.0</td>\n",
       "      <td>0.0</td>\n",
       "      <td>0.0</td>\n",
       "    </tr>\n",
       "    <tr>\n",
       "      <th>1</th>\n",
       "      <td>346783</td>\n",
       "      <td>0</td>\n",
       "      <td>1.0</td>\n",
       "      <td>0.0</td>\n",
       "      <td>0.0</td>\n",
       "    </tr>\n",
       "    <tr>\n",
       "      <th>2</th>\n",
       "      <td>346784</td>\n",
       "      <td>7</td>\n",
       "      <td>1.0</td>\n",
       "      <td>0.0</td>\n",
       "      <td>0.0</td>\n",
       "    </tr>\n",
       "    <tr>\n",
       "      <th>3</th>\n",
       "      <td>346785</td>\n",
       "      <td>0</td>\n",
       "      <td>1.0</td>\n",
       "      <td>0.0</td>\n",
       "      <td>0.0</td>\n",
       "    </tr>\n",
       "    <tr>\n",
       "      <th>4</th>\n",
       "      <td>346786</td>\n",
       "      <td>0</td>\n",
       "      <td>1.0</td>\n",
       "      <td>0.0</td>\n",
       "      <td>0.0</td>\n",
       "    </tr>\n",
       "  </tbody>\n",
       "</table>\n",
       "</div>"
      ],
      "text/plain": [
       "   company  number_of_visits  company_type_uk_limited_company  \\\n",
       "0   346782                 3                              1.0   \n",
       "1   346783                 0                              1.0   \n",
       "2   346784                 7                              1.0   \n",
       "3   346785                 0                              1.0   \n",
       "4   346786                 0                              1.0   \n",
       "\n",
       "   company_type_uk_sole_trader  company_type_universal_company  \n",
       "0                          0.0                             0.0  \n",
       "1                          0.0                             0.0  \n",
       "2                          0.0                             0.0  \n",
       "3                          0.0                             0.0  \n",
       "4                          0.0                             0.0  "
      ]
     },
     "execution_count": 186,
     "metadata": {},
     "output_type": "execute_result"
    }
   ],
   "source": [
    "#drop original categorical columns\n",
    "customer_log_df.drop(\"company_type\", axis = 1, inplace=True)\n",
    "customer_log_df.drop(\"subscribed_after_free_trial\", axis = 1, inplace=True)\n",
    "customer_log_df.head()"
   ]
  },
  {
   "cell_type": "code",
   "execution_count": 187,
   "metadata": {
    "collapsed": false,
    "scrolled": true
   },
   "outputs": [
    {
     "data": {
      "text/html": [
       "<div>\n",
       "<table border=\"1\" class=\"dataframe\">\n",
       "  <thead>\n",
       "    <tr style=\"text-align: right;\">\n",
       "      <th></th>\n",
       "      <th>company</th>\n",
       "      <th>number_of_visits</th>\n",
       "      <th>company_type_uk_limited_company</th>\n",
       "      <th>company_type_uk_sole_trader</th>\n",
       "      <th>company_type_universal_company</th>\n",
       "      <th>subscribed</th>\n",
       "    </tr>\n",
       "  </thead>\n",
       "  <tbody>\n",
       "    <tr>\n",
       "      <th>0</th>\n",
       "      <td>346782</td>\n",
       "      <td>3</td>\n",
       "      <td>1.0</td>\n",
       "      <td>0.0</td>\n",
       "      <td>0.0</td>\n",
       "      <td>0</td>\n",
       "    </tr>\n",
       "    <tr>\n",
       "      <th>1</th>\n",
       "      <td>346783</td>\n",
       "      <td>0</td>\n",
       "      <td>1.0</td>\n",
       "      <td>0.0</td>\n",
       "      <td>0.0</td>\n",
       "      <td>0</td>\n",
       "    </tr>\n",
       "    <tr>\n",
       "      <th>2</th>\n",
       "      <td>346784</td>\n",
       "      <td>7</td>\n",
       "      <td>1.0</td>\n",
       "      <td>0.0</td>\n",
       "      <td>0.0</td>\n",
       "      <td>1</td>\n",
       "    </tr>\n",
       "    <tr>\n",
       "      <th>3</th>\n",
       "      <td>346785</td>\n",
       "      <td>0</td>\n",
       "      <td>1.0</td>\n",
       "      <td>0.0</td>\n",
       "      <td>0.0</td>\n",
       "      <td>0</td>\n",
       "    </tr>\n",
       "    <tr>\n",
       "      <th>4</th>\n",
       "      <td>346786</td>\n",
       "      <td>0</td>\n",
       "      <td>1.0</td>\n",
       "      <td>0.0</td>\n",
       "      <td>0.0</td>\n",
       "      <td>0</td>\n",
       "    </tr>\n",
       "  </tbody>\n",
       "</table>\n",
       "</div>"
      ],
      "text/plain": [
       "   company  number_of_visits  company_type_uk_limited_company  \\\n",
       "0   346782                 3                              1.0   \n",
       "1   346783                 0                              1.0   \n",
       "2   346784                 7                              1.0   \n",
       "3   346785                 0                              1.0   \n",
       "4   346786                 0                              1.0   \n",
       "\n",
       "   company_type_uk_sole_trader  company_type_universal_company  subscribed  \n",
       "0                          0.0                             0.0           0  \n",
       "1                          0.0                             0.0           0  \n",
       "2                          0.0                             0.0           1  \n",
       "3                          0.0                             0.0           0  \n",
       "4                          0.0                             0.0           0  "
      ]
     },
     "execution_count": 187,
     "metadata": {},
     "output_type": "execute_result"
    }
   ],
   "source": [
    "#customer_log_df.insert(1, 'company_type', company_type_encoded)\n",
    "customer_log_df.insert(5, 'subscribed', Class)\n",
    "customer_log_df.head()"
   ]
  },
  {
   "cell_type": "code",
   "execution_count": 188,
   "metadata": {
    "collapsed": false
   },
   "outputs": [
    {
     "data": {
      "text/plain": [
       "<matplotlib.axes._subplots.AxesSubplot at 0x1ca705c0ba8>"
      ]
     },
     "execution_count": 188,
     "metadata": {},
     "output_type": "execute_result"
    },
    {
     "data": {
      "image/png": "[encoded data removed]",
      "text/plain": [
       "<matplotlib.figure.Figure at 0x1ca70559898>"
      ]
     },
     "metadata": {},
     "output_type": "display_data"
    }
   ],
   "source": [
    "#Get Correlation of \"subscribed\" feature with other features\n",
    "plt.figure(figsize=(4,2))\n",
    "customer_log_df.corr()['subscribed'].sort_values(ascending = False).plot(kind='bar')"
   ]
  },
  {
   "cell_type": "markdown",
   "metadata": {},
   "source": [
    "It can be seen that the number of visits to the system in the first week is highly correlated."
   ]
  },
  {
   "cell_type": "code",
   "execution_count": 189,
   "metadata": {
    "collapsed": false,
    "scrolled": true
   },
   "outputs": [
    {
     "data": {
      "text/plain": [
       "<matplotlib.text.Text at 0x1ca70689320>"
      ]
     },
     "execution_count": 189,
     "metadata": {},
     "output_type": "execute_result"
    },
    {
     "data": {
      "image/png": "[encoded data removed]",
      "text/plain": [
       "<matplotlib.figure.Figure at 0x1ca707c7f60>"
      ]
     },
     "metadata": {},
     "output_type": "display_data"
    }
   ],
   "source": [
    "#checking correlation between features and the likelihood of the customer to subscribe\n",
    "f, ax1 = plt.subplots(figsize=(6,4))\n",
    "\n",
    "corr = customer_log_df.corr()\n",
    "sns.heatmap(corr, cmap='coolwarm_r', annot_kws={'size':20}, ax=ax1)\n",
    "ax1.set_title(\"Imbalanced Correlation Matrix\", fontsize=14)"
   ]
  },
  {
   "cell_type": "markdown",
   "metadata": {},
   "source": [
    "With respect to the predictable feature (Subscribed), the number of visits show high positive correlation.\n",
    "The company type uk_limited and uk_sole trader are highly correlated with respect to each other."
   ]
  },
  {
   "cell_type": "code",
   "execution_count": 190,
   "metadata": {
    "collapsed": false
   },
   "outputs": [
    {
     "data": {
      "text/plain": [
       "0    0.830526\n",
       "1    0.169474\n",
       "Name: subscribed, dtype: float64"
      ]
     },
     "execution_count": 190,
     "metadata": {},
     "output_type": "execute_result"
    }
   ],
   "source": [
    "#checking the percentage of each class in the dataset\n",
    "(customer_log_df.subscribed.value_counts())/(customer_log_df.subscribed.count())"
   ]
  },
  {
   "cell_type": "code",
   "execution_count": 191,
   "metadata": {
    "collapsed": false,
    "scrolled": true
   },
   "outputs": [
    {
     "data": {
      "image/png": "[encoded data removed]",
      "text/plain": [
       "<matplotlib.figure.Figure at 0x1ca7091b470>"
      ]
     },
     "metadata": {},
     "output_type": "display_data"
    }
   ],
   "source": [
    "#Histrogram for feature number_of_visits\n",
    "f, (ax1, ax2) = plt.subplots(2, 1, sharex=True, figsize=(12,4))\n",
    "\n",
    "ax1.hist(customer_log_df[\"number_of_visits\"][customer_log_df[\"subscribed\"] == 1], bins = 50)\n",
    "ax1.set_title('Subscribed')\n",
    "\n",
    "ax2.hist(customer_log_df[\"number_of_visits\"][customer_log_df[\"subscribed\"] == 0], bins = 50)\n",
    "ax2.set_title('Not Subscribed')\n",
    "\n",
    "plt.xlabel('Number of visits in the first week')\n",
    "plt.ylabel('Number of customers')\n",
    "plt.show()"
   ]
  },
  {
   "cell_type": "markdown",
   "metadata": {},
   "source": [
    "It can be seen above that the customers that are likely to subscribe visit more during there free trial month as compared to the customers that donot subscribe. Maximum number of customers that are likely to subscribe use the system 7 times in the first week compared to only 1 time by those that donot subscribe. Customers that visit the system less that 5 times in the first week are most likely to not subscribe where as the customers to visit the system more than 5 times are quite likely to subscribe."
   ]
  },
  {
   "cell_type": "code",
   "execution_count": 192,
   "metadata": {
    "collapsed": false
   },
   "outputs": [
    {
     "name": "stdout",
     "output_type": "stream",
     "text": [
      "Customers Subscribed\n"
     ]
    },
    {
     "data": {
      "text/plain": [
       "count    161.000000\n",
       "mean       8.490683\n",
       "std        2.610359\n",
       "min        3.000000\n",
       "25%        7.000000\n",
       "50%        8.000000\n",
       "75%       10.000000\n",
       "max       18.000000\n",
       "Name: number_of_visits, dtype: float64"
      ]
     },
     "execution_count": 192,
     "metadata": {},
     "output_type": "execute_result"
    }
   ],
   "source": [
    "#Descriptive statistics for number_of_visits of subscribed customers\n",
    "print(\"Customers Subscribed\")\n",
    "customer_log_df['number_of_visits'][customer_log_df['subscribed']==1]. describe()"
   ]
  },
  {
   "cell_type": "markdown",
   "metadata": {},
   "source": [
    "As observed, the average number of visits for customer subscribing are approximately 8. The maximum and minimum number of visits being 18 and 3 respectively."
   ]
  },
  {
   "cell_type": "code",
   "execution_count": 193,
   "metadata": {
    "collapsed": false
   },
   "outputs": [
    {
     "name": "stdout",
     "output_type": "stream",
     "text": [
      "Customers Not Subscribed\n"
     ]
    },
    {
     "data": {
      "text/plain": [
       "count    789.000000\n",
       "mean       1.415716\n",
       "std        1.235908\n",
       "min        0.000000\n",
       "25%        0.000000\n",
       "50%        1.000000\n",
       "75%        2.000000\n",
       "max        6.000000\n",
       "Name: number_of_visits, dtype: float64"
      ]
     },
     "execution_count": 193,
     "metadata": {},
     "output_type": "execute_result"
    }
   ],
   "source": [
    "#Descriptive statistics for number_of_visits of customers that did not subscribed\n",
    "print(\"Customers Not Subscribed\")\n",
    "customer_log_df['number_of_visits'][customer_log_df['subscribed']==0]. describe()"
   ]
  },
  {
   "cell_type": "markdown",
   "metadata": {},
   "source": [
    "As observed, the average number of visits for customers not subscribing is approximately 1. The maximum and minimum number of visits being 6 and 0 respectively."
   ]
  },
  {
   "cell_type": "code",
   "execution_count": 194,
   "metadata": {
    "collapsed": false
   },
   "outputs": [
    {
     "data": {
      "text/html": [
       "<div>\n",
       "<table border=\"1\" class=\"dataframe\">\n",
       "  <thead>\n",
       "    <tr style=\"text-align: right;\">\n",
       "      <th></th>\n",
       "      <th>number_of_visits</th>\n",
       "      <th>company_type_uk_limited_company</th>\n",
       "      <th>company_type_uk_sole_trader</th>\n",
       "      <th>company_type_universal_company</th>\n",
       "      <th>subscribed</th>\n",
       "    </tr>\n",
       "  </thead>\n",
       "  <tbody>\n",
       "    <tr>\n",
       "      <th>0</th>\n",
       "      <td>3</td>\n",
       "      <td>1.0</td>\n",
       "      <td>0.0</td>\n",
       "      <td>0.0</td>\n",
       "      <td>0</td>\n",
       "    </tr>\n",
       "    <tr>\n",
       "      <th>1</th>\n",
       "      <td>0</td>\n",
       "      <td>1.0</td>\n",
       "      <td>0.0</td>\n",
       "      <td>0.0</td>\n",
       "      <td>0</td>\n",
       "    </tr>\n",
       "    <tr>\n",
       "      <th>2</th>\n",
       "      <td>7</td>\n",
       "      <td>1.0</td>\n",
       "      <td>0.0</td>\n",
       "      <td>0.0</td>\n",
       "      <td>1</td>\n",
       "    </tr>\n",
       "    <tr>\n",
       "      <th>3</th>\n",
       "      <td>0</td>\n",
       "      <td>1.0</td>\n",
       "      <td>0.0</td>\n",
       "      <td>0.0</td>\n",
       "      <td>0</td>\n",
       "    </tr>\n",
       "    <tr>\n",
       "      <th>4</th>\n",
       "      <td>0</td>\n",
       "      <td>1.0</td>\n",
       "      <td>0.0</td>\n",
       "      <td>0.0</td>\n",
       "      <td>0</td>\n",
       "    </tr>\n",
       "  </tbody>\n",
       "</table>\n",
       "</div>"
      ],
      "text/plain": [
       "   number_of_visits  company_type_uk_limited_company  \\\n",
       "0                 3                              1.0   \n",
       "1                 0                              1.0   \n",
       "2                 7                              1.0   \n",
       "3                 0                              1.0   \n",
       "4                 0                              1.0   \n",
       "\n",
       "   company_type_uk_sole_trader  company_type_universal_company  subscribed  \n",
       "0                          0.0                             0.0           0  \n",
       "1                          0.0                             0.0           0  \n",
       "2                          0.0                             0.0           1  \n",
       "3                          0.0                             0.0           0  \n",
       "4                          0.0                             0.0           0  "
      ]
     },
     "execution_count": 194,
     "metadata": {},
     "output_type": "execute_result"
    }
   ],
   "source": [
    "#dropping feature 'company' as it is just a unique identifier which does not give any information regarding the possibility of a customer purchasing a subscription or not\n",
    "customer_log_df.drop(\"company\", axis = 1, inplace=True)\n",
    "customer_log_df.head()"
   ]
  },
  {
   "cell_type": "code",
   "execution_count": 195,
   "metadata": {
    "collapsed": false
   },
   "outputs": [
    {
     "data": {
      "text/plain": [
       "number_of_visits                   9.469962\n",
       "company_type_uk_limited_company    0.249570\n",
       "company_type_uk_sole_trader        0.232932\n",
       "company_type_universal_company     0.094282\n",
       "subscribed                         0.140901\n",
       "dtype: float64"
      ]
     },
     "execution_count": 195,
     "metadata": {},
     "output_type": "execute_result"
    }
   ],
   "source": [
    "#Variance\n",
    "customer_log_df.var()"
   ]
  },
  {
   "cell_type": "code",
   "execution_count": 196,
   "metadata": {
    "collapsed": false
   },
   "outputs": [
    {
     "data": {
      "text/plain": [
       "<matplotlib.axes._subplots.AxesSubplot at 0x1ca71e04278>"
      ]
     },
     "execution_count": 196,
     "metadata": {},
     "output_type": "execute_result"
    },
    {
     "data": {
      "image/png": "[encoded data removed]",
      "text/plain": [
       "<matplotlib.figure.Figure at 0x1ca71bf86d8>"
      ]
     },
     "metadata": {},
     "output_type": "display_data"
    }
   ],
   "source": [
    "#Boxplot for the number_of_visits feature, in order to visualize the outliers.\n",
    "sns.boxplot(x=customer_log_df['subscribed'], y=customer_log_df['number_of_visits'])"
   ]
  },
  {
   "cell_type": "markdown",
   "metadata": {},
   "source": [
    "There are outliers present in both the categories. Outliers can be removed at a later stage in order to compare the performance of the model."
   ]
  },
  {
   "cell_type": "markdown",
   "metadata": {},
   "source": [
    "Since, the data is unbalanced. Therefore, it should be balanced. But before oversampling the data is split into train and test set."
   ]
  },
  {
   "cell_type": "code",
   "execution_count": 197,
   "metadata": {
    "collapsed": false
   },
   "outputs": [
    {
     "name": "stdout",
     "output_type": "stream",
     "text": [
      "Train: [847 735 276 562 828 621  47 586 640 389 844 846 933 905 756 254 928 226\n",
      " 593 177 347  58 278 809   8  88 517 419 721 908 318 661 395 713 164  13\n",
      " 323 184  53  39  44 188 560 285 659 547 146 414 895 854 660 887 912 124\n",
      " 719 160  89 845 565 338 874 144 508 284 507  54 598 654 315 631 679   7\n",
      " 463 269 445 475 899 620 154 244 577 741 528 607 929 456 563 203 680  80\n",
      " 616 339  71 824 190 885  22 550 605 636 918 249 670  98 350 237 949  69\n",
      " 864 868 136 351 903 252 345  91 770 332 440  21 877 886 781 326 106 457\n",
      " 461 825 436 645 597 427 625 683 915 521 867 524 368 566  86 295 359 352\n",
      " 536 491 802 397 271 453  83 117 375 437 186 766 197 862  61 787 109 932\n",
      " 218 110 422 690 765  29 599 446 464 816 549 292 170 525 738 143 805 442\n",
      " 405 783 479 644 714 726 622 727 510 592 407 642 736 118 119 725 441 317\n",
      " 305 673 155 334 691 452 374  95 370 229  82 637 503 353 438 366 157 387\n",
      " 256 779 319 166 348 750  34 294 181 527  67 925 515 404 920 651 658 223\n",
      " 281 695 757 777  76 268 228 628 173 336 472 513 105 774 484 610  52 776\n",
      " 408 743 581 551 399 482 255 944 662 822  55 652 769 512 638 391 749 321\n",
      " 233 746 194 378 514 263 429  41 836 393  93 762 499  75 434 583 941 866\n",
      " 922 462 720 606 104 882 306 360 617 131 668 231 876 451 532 760 635 884\n",
      " 737 567 135  51  87 717 175 202 589 392 277 455 934 232  18 261 798  46\n",
      " 383 108  56 147 888 207  84 948 838 839 308 121 205 189 803 519 206 827\n",
      " 428 722 522 921 489 496 431 608 792 357 685 778 289 130 400 907 869 541\n",
      " 274 343  36 531 784 702 657  85 801 307 474 674 728 316 793 222 227  31\n",
      " 744 329 280 926 298 881 731 152 191 460 538 665 320 535 818 754 723 148\n",
      "  24  60 890  68 576 198 931 914 600 449 230 195 309 634 381 859 416 786\n",
      " 879 324 676 163 733 629 618 162 356 127 706 246 552 158 655 582 224 664\n",
      " 364 132 139 742 855 299 487  10 413 485 448 588 849 447 216 692  77 212\n",
      " 615 909 529 558  79  19 834 910 102 355 729 100 250 502 788 138  33 156\n",
      " 310 264 669 373 377 559 826 666 145 603 402 832 591 327 245 376 337 137\n",
      " 204 940 325 297 333 799 898 331 817 471 807 911 178 945 556 247 406 379\n",
      " 275 671 430 782 169 850 880  48  64 873 875 893 900 539 279 704 248 520\n",
      " 185 265 745   6 384 142 497 516 764 767 819 473  14 526  59 311 213 385\n",
      " 443  35 421 763 409 259 708 614 663 540  97  74 165 718 335   4 848 312\n",
      " 140 543 495 176 870 494 917 403 650 504 935 648 894  92 946  11 780 796\n",
      " 369 587 358 842 365 243 806  20 424  38 646 572 904 883 266  28 748 183\n",
      " 840  94 571 841 649 388 800 681 483 193  96 773  15 498 682 225 219 288\n",
      " 772 633 114 153 703 553 709 382 601  72 220 758 705 179 752 300 394 861\n",
      " 411 112 141 439 768 174 480   3 180 814   0 210 192 555 420 238 286 678\n",
      " 545 943 113 283 653  45 863 417 149 235 272 699  65 732 775  50 262 916\n",
      " 120 548 470 759 641 804 363 187 897  30 477 751 936 418 241 367 561 322\n",
      " 211 923 808   9 771 465 234 481 542 852 410 328 707 533 260 639 872 734\n",
      " 672 444 747 677 724 468 892 509 584 913 564 878 530 891 919 557 811 296\n",
      " 740 534 282 602 795 182 412 613 656  63 151 128 361 401 554 287 579 829\n",
      "  12 924 938 344  27 293 835 939 506 711 454 221  73 342 716 171 371 797\n",
      " 354 123 426 902] Test: [ 42 596 435 398 488 459 693 466 585 630 755 573 214 500  62 107 568 830\n",
      " 240 209 694 609 627 501  17  78 612 215  37 291 258 833 196 314  70 696\n",
      " 458 710 761 330  23 251 594 856 712 823 478 208 851 623 450 667 697 624\n",
      " 390 604 346 546 810 201 813 698  40 511  66 236 865  49 675 134 115 362\n",
      " 116  26 947 871  99 122 575   1 349 273 341 580 611 340  81 544 688 753\n",
      " 858 493 396 791 172 537 125 486 505 821 270 857 167 523   5 930 492 257\n",
      " 467   2 425 942 619 901 304  32 684 647 790 700 199 843 686 313  43 794\n",
      " 159 415 574 889 432 301 590  25 200 161 820 906 789 815 860 643 469 423\n",
      " 689 626 386 217 372 831 715 242 632 927  16 476 239 739 126 837 896 433\n",
      " 302 150  90 701 570 290 129 785 937 569 687 103 168 267 101 133 730 253\n",
      " 380 853 595 578 111  57 490 812 303 518]\n",
      "Train: [252 602 735 197 688 723 375 949  66 349 140 543 684 395 310 291 503 203\n",
      " 428 720  83 278  44 163 204 575 869  46  38 477 657 549   1  93 846 246\n",
      " 677 119 363 437 733 115 214  55 445 619 541 251 848 493  10  26 406 308\n",
      " 890 704  79 892 496 213 547 551 659 736 870 254 548 552 928  72 130 921\n",
      " 572 566 651 821 464 631 652 314 546 427 446 319 283 701 318  69 873  11\n",
      "  68 321 223 430 676 623 118 765 326 370 889 668 590 752 562 801 758 734\n",
      " 506 635 766 103 184 461 241 359 542 491 682 703 778 294 924 242 600 644\n",
      " 655  40 229  12 489 879  49 944 867 824 598 172 533 350 508 438 333 529\n",
      " 451 687  85 853 560 587 520  23 113 729 297 240 236 625 874 871 708 732\n",
      " 937 233 289 356 565 817 222 932 355 160 882  80 885 554 227 380 582 345\n",
      "   5 737  35 131 157 868 777 505 309 773 585 436 637 789 886 523 201 322\n",
      "  82 866 603 316 815 717 150 633 876 247 138 845 540 909 880 398 148 154\n",
      " 798 615 646 171 495 468 472 622 707 883 788 466 162 358 497 249  16 745\n",
      " 692 490 863 210  67 513 672  48 237 897 748 125 261 730 153 539 805 235\n",
      " 875 105 911 555 809  98 454 797 343 629 441 271 168 645 258 683 718 905\n",
      " 627 137 639 593  61 589   2 501 463 352 781 818 918  73 263 923  20 285\n",
      " 899 930 620 473 662 938 850 634 161 135 796 716 334 935 337 335 833 239\n",
      " 787 865 234 101 878   4 282 498 561 522  18  37 696 482 196 742 397 199\n",
      " 449 793   6  41 713 594  31 605 301 250 173 500 158 341 947 281 630 109\n",
      " 770 124 108  58 580 425 858 545 121 340 191 512 751 811 647 323 372  91\n",
      " 174 536 515 577 607 444 362 764 374 907 207 305 424 556  30 517 317 104\n",
      " 553 435 272 628 842 494 185 373 535 347 164 673 768 478 279 825  28 558\n",
      " 741  53 679 224 123 339 177 860 230 852 450 226  33  45 364 583 417 756\n",
      "  21 338 460 661 462 324 664  19 298 864 816 114 570 186 216 840 129 169\n",
      " 927 228  97 353 795 922 327 857 132 776 507 747 680  87 769 856 838 510\n",
      " 665 151 943 827 475 814 296 217 913 898 895 660 178 738 295 611 581 299\n",
      " 940 914 810 481 244 641 238 400 488  89  88 612 636 528 579  29 429 111\n",
      " 702 190 670 300 325 504 476 416  39 772 403 749  71 934 753 626 116 819\n",
      " 727 458 170 447 656 193 245 721 453 649 700 180 599 311  14  43 274 146\n",
      " 219 394 486  74 211 328 689 519 194 779 410 385 807 903 568 685 265 576\n",
      "  92 808 304 100 714 571  76 828 267 287  54 313  78 433 220 948 126 284\n",
      " 530 465 606 681 666  36 218 617 908 487 832 260 315 422 550 306 144 775\n",
      " 527 887 785 888 574 854 691 264  50 120 690 292  15 320  96 830 208 884\n",
      " 136 669 117 859 183 804   9 485  64 559 822 759 829 920 365 526 834 467\n",
      " 724 831 166  63  84 586 755 799 399 396 187 872 861 654 813 423 440  27\n",
      " 346 917 307 471 806 671 361 142 332 595 715 402 823 557 102 658 516 384\n",
      " 209 390  17 698 122 378 492 719  65 293 588 419 792 329 342  90 538 259\n",
      "  59 597 411 642 303  34 404 782  56  77 904 675 746 891  57 790 133 650\n",
      " 269 167 266 621 841 288 139 694 939  52 391 392 896 401 377 414 387 643\n",
      " 290 457 331 578 127 705 931 912 640 439   7 757 900 514 175 367 544 610\n",
      " 474 835 509 624 894 743 767 371 706 693 762 881 205 906 483 709 851 667\n",
      " 253  95 678 143 469 443 413 262 946 525 648 573 596 910 408 584 256 697\n",
      " 728  32 710 564] Test: [916 569 312  81 837 357 480 176 532 638 107 674 149 200 877 231 711 802\n",
      " 855 820 257 379  60 726 604 592 847 280 470 368 221 202 945 198 389 800\n",
      "  51 330 791 499 760 712 421 179 369 521 147  94  42 531 844 836 192 393\n",
      " 750  13 182 901 188 739 366 388 426 608 386  22 344 591 843 534 722 156\n",
      " 215 618 537 455 412 106 382 740 189 155 771 933 348 376 459 601 632 128\n",
      " 893 936 902 484 418 212 614 926 302 405 774 442 780 761 919 255 145 407\n",
      " 141 415 452 273 518 448 110  62 941  86 567 616 849 915 360 134 232 432\n",
      " 434  24 195 609 839 276 613 942 248   3 243 420 929 270 663 812 925 268\n",
      " 336  99  47 409 862 695 225  70 206 794 784 524 725 502 563   8 653 456\n",
      " 381 826 351 783 754 354 181 383 731 479 431 277 159 112 786 286 686  75\n",
      " 275 763 152 165 744 511  25   0 803 699]\n",
      "Train: [408   7 127 937 809 712 336  81 320 190 532 300 374 294  45 552 822 252\n",
      " 467 871 168 111   6 451 729  55 197 709 544 553  13 124 295 266 342 915\n",
      " 347  30  66  42 268 810 740 396 248 119 682 310 285 276 120 515 273 883\n",
      " 859 549 719 592 609 327 877 514 671 654 434 780 778 604 882  15 848 722\n",
      " 280 634 934 313 716 439 833 492 543 495 523 793 363 437 773 510 332 785\n",
      " 919 539 112 686 185 902 933 221 349 426 595 100 191 240   0 557 477  59\n",
      " 805 464 565 922 840  24 165  50 267 339 584 931 650 206 383 651  75  76\n",
      " 505 853 670 150 867 199 304 328  61  31 353 918 759 910 511 901 531 427\n",
      " 417 562 913 581 574 211 779 422 862 546 122 688 788 758 847 808 645 820\n",
      " 872 852 887 666 250 468 743  28 616 556 297 834 152 632 888 677 873 555\n",
      " 791  85 333 878 445 384 603 169 664 208 471 312  68  99 587 220 854 253\n",
      "  84 298  18 617 362 656 530  21 386  88 172 359 711 838 115 476 598 148\n",
      " 254 806 222 612 443 935 572 493 499 640  82 638  17 936 627 527 309 521\n",
      " 456 448  60  77  73 146 283 271 134 325 946 621 856 689 607 685  87 455\n",
      " 904 216 118 288 752 538 596 488 264 885 215 516  16  35  52 920 395 897\n",
      " 639 541 850 489 844 795 158 533 585 126  62 540 672 618 669 116 402 588\n",
      " 242 380 156 389  29 412 637 842 813 851 212 155 868 571  27 804 737 747\n",
      " 270 884 478 110 406 635  37 201 318 411 865 550 291 343 137 749  94 450\n",
      " 255 302 857 177 344 423 784 487 566 205 775 625  39 776 807 200 823 704\n",
      " 781  67  97 782 748 945 836 279 496 916 364 147 485 261 653 184 370 756\n",
      " 763 173 210 535 731 628  34 415  58 421 695 123 520 431 231 151 128 433\n",
      " 225 768  93 513 829 149   1 193 269 911 340 358  20 133 226 198 769  86\n",
      " 800 241 843 925 509 465 303 560 819 373 710 652 121 224 529 299 624 923\n",
      " 602 238  33  80 576 786 419 762 175 416 715 428 368  74 293 723 178 893\n",
      " 707  43  38 233 292 537 161 665 528 482 196 816 371 783 258 892 475 705\n",
      "  54 648 227 324 569 941 289 357 167 247 497 462 732 720 605  83 615 814\n",
      " 109 939 826 256 678 943 767  14 579 863 101 181 798   9 436 209 879 337\n",
      " 484 522 501  56 218 129 138 895 230 846 375 239 348 866 282 435 713 921\n",
      " 235 801 525 207 367 413 680  70 265 947  78 232 926 188   5 390 821 930\n",
      " 454 845 644 646  96 561 202 692 643  91 145 246 163 659 483 179 244 518\n",
      " 835 458  98 278 891 790 486 401 376 321 500  10  40 792 611 524  41  25\n",
      " 746 864 400 257 180 684 260 425   3  36 381 698 573 229 372 876 329 593\n",
      " 839 446 599 323 898 942 727 662 736 466 774  90 314 551 424 721 708 765\n",
      "  26 387 940  57 900 166 875 322 567 905 135 142 183 668 296  51 503 600\n",
      " 568 697  32 696 590 440 927 890 655  12 474 262 914 494 663  89 869 463\n",
      " 559 274 369 301 251 432 187 889 641 418 908  65 104 361 189 733 726 281\n",
      " 757 832 338 754 558 772 575 606 223 764 629 702 441 855 545 714 429 750\n",
      " 517 311 236 586 512 735  79 860 171 377 802 519 824 140 658 928 113 144\n",
      " 391 601 691 420 457 580 186 388 874 837 896 157 583 675 472 131 430 203\n",
      " 657 693 831 610 153 331  63 547 284 470 724 903 694 473 577  44 382 728\n",
      " 414 392 679 631 636 245 452 929 906 907  71 667  64 403 287 176 554 360\n",
      " 378 620 398 366  46 622 164 461 498 777 160 741 479 608 647 259  95 306\n",
      " 394 815 275 660] Test: [316 614 490 886 570 841 787 938 751 803  92 507 234 687 379 326 745 481\n",
      " 449 182 761 948 949 106 849 355 385 350 753  47 642 409 315 818 506 881\n",
      " 263 700 827 912 812 399 676 717 591 447 117 630 674 393 744 351  22  69\n",
      " 673 766 130 582 526 909 755 594 249 619 502 444 491 880 136 345 589 105\n",
      " 107 626 578 770 932 701 319 272 154  19 334 633  49 397 811 228 204 132\n",
      " 460 213 442 219 330 613 597 305 354 317 760 214 108  72 162 139 335 706\n",
      " 174 125 690 828 830 542 730 738 742   8 894 356  11  23 286 548 307 308\n",
      " 917 534 114 725 649 170 623 797 469 683   4 217 739 771 407 944 794 243\n",
      " 924 143 870   2 438 661 536 346 195 799 102 405 858 789  53 159  48 459\n",
      " 899 341 796 699 563 681 404 352 718 141 703 290 277 192 365 194 817 237\n",
      " 480 734 564 103 508 504 410 825 453 861]\n",
      "Train: [907 333 354 108 573 502 608 131  60 746 161  68 147 489 883 316 755 500\n",
      " 880 351  17 709 467 803 886 115 858 588 122 662 802  84 372  49 579 444\n",
      " 893 273 206  64 421  66 529 899 575 852 506 761 290 889 583 631 389 371\n",
      " 106 767 632 468 428 591 438 136 804 528 839 594  79  97 352 294 749 692\n",
      " 156 315 140 715 664 198 949 187 547 610 688 699 737 630 142 565 856 218\n",
      "  10 365 311 784  13 499 305  43 601 373 658 860 912 744 494 674 926 154\n",
      " 677  32 656 497 877 811 514 256 167 897 475 121 701 308 653 712 246 464\n",
      " 174 158  65 748 100 488  42  20 539 806 369 661 288 525 408 829 202 892\n",
      " 931 255 721 559 733 639 133 640 855 422  67 568 616  29  87 268 344 869\n",
      "  58 881 689 472 833 162 386 774 847 177 698 587 329 536 227 299 370 557\n",
      " 819 681 358 403 724 934 789 572 845 511 432 885 720 485 679 111 216 695\n",
      " 271 447 649 182 757 148 827 837 626 341 196 460 178 397 874 169 875 210\n",
      " 384 542 824 126 451 582  40 636  19 638 831 302 821 935 145 209 114 586\n",
      " 938  52 809 813 876 792 314 614 647 838 800 337 297 895 621  44 417 805\n",
      " 682 853 300 181 523 321 132 388 903 552 942 751  94 282  28 729 101  12\n",
      " 702 301 612 865 606  18 567 313   5 922 164 513 946 327 519 309 229 398\n",
      " 135 857 119 223 295 929 740 163 378 589 555  72 898 521 392 716 346 844\n",
      " 221 137 266 405 441 915 385 505 483  34 508 690 901 697  36  81 783 840\n",
      " 318 356 357 461  26 887 102 139 112 723 722 584 867 495 248 440 635 815\n",
      " 707 129 743 633 726 406 226 289 818  83 404 576 401  80 617 224 190 510\n",
      " 781 396 264 593 362 141  56 623 660 732 285 173 832 249  27 752 766 864\n",
      " 704 176 736 854 600 203 655 212 243 760 152 348 719 191  74  41  71 917\n",
      " 850 785 450 948 231 756 787 927 801 279 905 419 394 376 507 544 298 296\n",
      "   0 261 287 442 683 149 646 377 431 836 379 793 232 183 822 476 891 693\n",
      "  92 896 541 796 725 260 826 581 592 463   6 103 848 727 849 281 924 185\n",
      " 921 124 672  85  86 728 665 429 486 159 331 928 717 577 452 619 454 540\n",
      " 238 165  48 312  21 703 496 427 116 933 613 758 251 596 490 590 863  75\n",
      " 180 503 604 535 127   4 424 125 532 919 734 501 105 493 923 925 862 780\n",
      " 151 574 335 257  16 602 498 435 764 904 694 685  70 492 546 537 543 390\n",
      " 240 487 446 705 908 659 134 624 944 439 113 791 882 643 219 259 512 222\n",
      " 778 393 466 155 788 410  33 310 676 866 625 669 387 433 742 334 411 843\n",
      " 241 564 773 851 455 201 530 426 735 360 906 790 820 361 520 509 168 220\n",
      " 436 291 762 504 284 244 650  25 918  37 280 192  53 482   1 580 830   8\n",
      " 765 247 320 200 481 197  57 160 217  76 363 909 423 563 307 322  62  31\n",
      "  14 343 522 894 184 123  54 166  11 828 188 823   2 254 458 175 230 611\n",
      "  46 359 400 554 797 253  88 873 118 340 368 265 868   3  90 157 745 570\n",
      " 668 678 754 516 686 469 937 835 807 605 207 199 215 324 172  23 731 150\n",
      " 245 484 263 945 578 317 569 730 566 283 651 415  78 861 293 208 607   9\n",
      " 420 684  77 708 902  15 233 443 711  69 409  39 213 272 779 558 768 277\n",
      " 465 276 374 130  22  73  59 562 603 470 171 644 706 189 413 353 425 747\n",
      " 812 598 434 770 242 194 941 710 870 274 416 687 775 673 782 104 239 480\n",
      " 914 648 533 657 718 825  99 186 269 859 753  82 179 456 349 814 430 120\n",
      " 888 453 872 478] Test: [545 303 777 550 258 471  51 527 622 595 267 399 367 798 474 627 620 879\n",
      "  30 325 395 144 195  45 615 667  98 776 911 326 214 597 936 128 642 637\n",
      " 457  35 109 339 786 234 947 634 834 916 910 652  89 890  55 810 117 671\n",
      " 553 143 518 940 347 146  63 338 262 713 759 138 382 939 412 517 330 763\n",
      " 680 252 237 350 538 750 275 332 381 548 884 462 714 816 670 375 846 170\n",
      " 336 878  93 628 524 228 549 795  95 741 738 270 286 551 531 225 366 292\n",
      " 666 772 842 380 739 418 913 808 306 817 556 561 445 235 345 560 629  38\n",
      " 205 364 700 459 871 304 799   7 920 526 204 618 473 641  50 448 609 900\n",
      " 414 943 153 355 534 794 663 278 696 319 645 771 211 449 193 407 769 479\n",
      "  24  47 599 675 691 323 515 107 402 571 477 236 930 841 342 654  91 250\n",
      " 932 437 383 328  96 491  61 110 585 391]\n",
      "Train: [493 627 542 205 522 523 644 703 446 364 575 224 811 741 334 708 103  88\n",
      " 354 305 760 683 145 476 599 406 933 601 557 725 140 651 196 761  87 130\n",
      " 459 907 835 240 122  49 442 168 304 108 567  43 549 453 323 919 621 785\n",
      " 321  68 179 842 866 185 918 738 555 331 191   5 607 294 736 790 264 340\n",
      " 399 579 604  42 447 372 706 802 538 898 911 606 208 947  72 384  96 314\n",
      " 620 136 343 394 682 652 477  54 342  35 747 398 125 231 414 681 403 175\n",
      " 545 564 332 571 788  92 190 670   4  37 624 330 295 676 362 358 672 805\n",
      " 319 104  10 421 222 688 127 131 246 345 408 820 178 595 909 245 219 894\n",
      " 936 301 374  84 826 350 189 172 625 726 619 825 200 390 889 170 267  99\n",
      " 462 930 214 537 873 716 674 865 689 547 730 449 100 302  27 418 864 491\n",
      " 150 932  41 830 639 475 586 572  24  70   6 638 101  90 846 596 367 739\n",
      " 629  71 480 875 380 504 142 478  66 433 312 580 315 458 942 225 233 704\n",
      " 940 518  23 585 174 169  53 409 385 173 425 198 633 610 419 309  50 597\n",
      " 263 798 902 135 134 773 872 707 813 667 886 177 806 780 218 661  85 498\n",
      " 587 857 262 565 727 484 794 468   0 286 885 928 426 841 876 616 159 766\n",
      " 461 636 673 908 723 188 325 719 265 255 543 858  31 147 931 665 154 791\n",
      " 783 359 437 544 326 807 944 420 370 895 528 416 445 631 410 925 767 778\n",
      "  52 291 881 443 299 590 382  17 298 593 379 752 368 274 608 772 139 306\n",
      " 737 920 852 762 799 949 148 946 527 899 655 507 871 252 531 582 748 111\n",
      " 663 765 411 344 882  62 696 577 838 717 714 502 227 705 834 861 235 232\n",
      " 808 818 878 392 660 473 432 756 171 239 720 206 541 383 146  95 888 132\n",
      " 499 501  32 338 463 153 402 702 786 388 346 467 369 129 868 945  65 685\n",
      " 637 821 248 180 211 843 851 474 335 184 124  44  73 613 415 471 892 373\n",
      " 417 126 764 485 514 664 534 859 256 684 472 355 700  19  81 405 568 646\n",
      "  57 329 500 939 666 466 162 712 824 643 512  21 207 774 817 525 591 288\n",
      "  83 867 164 690 337 840 848 753 307 926  77 763 509 213 912 284 251 563\n",
      " 149 669 269 913 328 483 792 775 733 574 797 397 520 258 815 395 782 241\n",
      " 277 161 413 662 905 260 602 427 496 469  97 632 609 584 810 400  28 482\n",
      " 244 221 349 675  98 266 529 754 910  64 710 863 212 654 357 285 454 649\n",
      " 457 715 554 430 197 152 803 927 770 451 829  26 553 539 375 759 365 781\n",
      " 187 853 776 855 921 348 711 247 532 603 562 210 659 935 583 877 137 943\n",
      " 814  76 687 513 634 352 556 143 648 486 677 297  40 938 906 422 732 724\n",
      " 626 722 492 828 768 455 160 694 505 363 847 360 551 893 650 287 880 870\n",
      " 916 317 929  29 787 701 436 257 243 561  75  36 434 697 193 800 517 404\n",
      " 157 600 107 569  12  78  61 890 292  16  93 202 615 381 223 195  48 431\n",
      " 941 351 903   9 923   8 657 668 642 793 339 303   7 887 588 891 510 230\n",
      " 253  13 628 361 371 401  91 216 336 904 118 506 356 293 746 391 114 268\n",
      " 546 479 827 444 452 914 897 276 313 735 503 686 199 280 275  67 508 948\n",
      " 758 300 699 883 460 540  46 495 671  22 656 884 769 731 900 201 490 272\n",
      "  86  45 424   1  15 592 121 934 839 594 279  89 832 386 488 816  74 578\n",
      " 133 573 412 181 558  20 693 166 695 743 407 347 640 784 165 112  63  39\n",
      " 176 167 242 796 740 278  59 209 521 550 238 874 854 917 311 429 653 924\n",
      " 387 812 789  34] Test: [658 487 316 237 804 777 801 915 611 217 833 559 896 116 519 819 535 552\n",
      " 750   2 155 470 795 324 163 771  18 617 105 922 151  56 376 377 456 423\n",
      " 128 203 366 249 718 273  69 138 261 755 623 448 259 341 333 515 692 879\n",
      " 742 831 318 641 182 836 862 635 728 856 860  38 937  11 441 464 850 612\n",
      " 439 511 144 589 428 192 183 530 229 533 308 156   3 270 536 215  30 614\n",
      " 110 450 844 566 630  51 598 757 158  25  55  14 713 745 837 744 698 378\n",
      "  80  47 250  82 283 438 901 605 678 581  60 271 516 435 440  79 123 680\n",
      " 120 281 226 679 194 524 751 106 396 481 290 560 647 117  33 494 353 691\n",
      " 570 254 645 389 822 497 327 186 729 734 310 204 622 220 393 236 296 721\n",
      " 709  58 849 576 282 809 119 869 102 489 320 322  94 109 465 289 618 779\n",
      " 228 823 526 141 115 234 548 749 845 113]\n",
      "Train: [477 534 548 489 829 776 258 593 716 845 505 831 660 318 647 584 109  92\n",
      " 397 250  43 437  55 236 907 215  84 317  47 867 456 868 378 268 879 794\n",
      " 338 425 231 827 737 646 204 600 510 560 424 869  90 727 207 188 768 263\n",
      "  49 402 301 589  50 634 653 941 149 444 467  30 279 760 641 599 699 107\n",
      " 422 374 481  72 174 538 464 587  57 255  48 160 598 928 238 227 759 854\n",
      " 450 452 645 932 569 360 586 271  60 926 519 180 942 230 903  29 913 381\n",
      " 876 536 568 124 208  79 193 911 613 173 725 707 329 709 744 495 571 834\n",
      " 777 501 251 772 630 608 326 152 895 612  71 728 844 667 503 669 901 787\n",
      " 435 695 542 704 293  67 769 591  36  66 886 463 446  13 237 394 130 750\n",
      "  52 648 148 265 368 187 780 363 937 355 513 863 673  68 761 711 949 910\n",
      " 943 199 517 496 775  97 918 304  76 436 361 821 285   7 785 891 564 606\n",
      " 248 272 104 127 842 871 398 315 376 556 351 242 652 150  16 328 527  74\n",
      " 100 521 331 944 696 731  81 332 168 409 203  27 283 824 441 920 733 934\n",
      " 701 529 621 649 504 718 214 270 532 451 189 322 490 226 539 720  98 740\n",
      " 400 810 622 657 243 544  28 931 614 126 462 102 125 295 423 894 313 224\n",
      " 359 819 240 213 723  25 898 311 808 110 864 156 735 545 698 575 736 774\n",
      " 445 624 128  58  37 877 457 602 232  12 417 561  86 330   8 339 427 471\n",
      " 572 771 859 352 228 811 419 486 244 655 856 166 826  46 439 485 334 801\n",
      " 117 752 815 508 154 412 638 257 319 252 385 383 659 205 473  77  59 786\n",
      " 404 607 512 694 930 570 816  42 710 391 201 401 577 247 375 618 703 373\n",
      " 541 739 387  95 585 850 880 905 468   5 596 276 557 852 262 912 851 181\n",
      " 146 833 407 783 525 151 403 719 535  17 802 746 650 865 582 474 345 778\n",
      " 275 234 922 756 605 636 298 747 440 377  15 855 543 278 438 274 516 892\n",
      " 259 528 565 406 849 875 782  88 803 478 390 616 615 893 686 678 254 592\n",
      " 881 469 917 945 449 919 814  32 221 491 157 537 163 459 500 656 511 284\n",
      " 336 192 288 938 357 453 924 823 559 670 323 327 212 661 764 350 729 947\n",
      " 554 617 555 671 866 484 882 604 405 129 683 712 142 900 364 502 781 757\n",
      " 209  83 520 161 700 773 566 908 809 620 751 309 499 101 493 112 889 191\n",
      " 292 509 432 897 466  45 663 260 763 434 344 177 551 588 443 302 229 393\n",
      " 874 145 675 426 113 574 220 210 303 888 533 497 170   6  14  39 594 841\n",
      " 601 530 806 935 896 681 524 899 335 269 470 136 297  63 741 386 639 167\n",
      " 923 640 186 198 668 603 658 206 626 726 939 540 389 635 219 218 550 307\n",
      " 838 245 115 611 106 625  61 885 562  53 349 267 472 573 507 792 820 483\n",
      " 140 239 300   0 767 633 253  35 143 628 644 277 860 717 455 784 147  89\n",
      " 266 853 225 677 713 795 388 688 308 732 458 494  69 691 825 553  23   9\n",
      " 664 590 138 817 748 684 848 159 413 420 813 721 182 523 762  41 164 805\n",
      " 914 609 578 134 915 371 909 476 872 946 627 217 408 580 662 116 246 722\n",
      " 846  10 793 396 320 749 410 839 789 676 291 567 706  11 576 847 465 531\n",
      " 141  19 487 790 312 273 454  31 461 235 200 708 506 382 515 714  93 812\n",
      " 878 123   1 654 121 114 448 342 369  54 738 428 294  34 370 730 421 211\n",
      " 685 241 135 216 766 367  20 916 354  21 758 632 828 702 597 194 488 857\n",
      " 184 904  26  44 324  33 179 365 120  87 547 665 742 155 755 492 372 788\n",
      " 447 610 753 153] Test: [822 223 637 356 286  18 169 366 791 280 480 595 178 249 122 948 798 835\n",
      " 144  80 299 414 281 631 796 861 549 693 629  82 222 118 734 333 884 687\n",
      " 800 643 674  38 514 936  91 925  73 724 289 202 233 475 264 133 337 183\n",
      " 197 347  40 305   4 754 362 103 692 325 887 933 745 619 384  51 680 581\n",
      " 672 743  94 430 940 552 651 883 799 171 460  62 522 429  99 392  64 399\n",
      " 642 558 858 689 341  75 579 526 175  22 862 131 679 890 498 379 623 348\n",
      " 840 779  96  70 818 314  65  85 804 190 108 321 418 666 306 416 111 137\n",
      " 927 836 353 316 902 119 172  24 482 546 583 105 807 261 433   3 176 358\n",
      " 431 380 290 837 563  56 165 185 346 256 343 770 415 873 282 843 442 518\n",
      " 158 139 690   2 832  78 830 479 870 132 697 296 195 765 340 162 906 797\n",
      " 705 196 715 310 287 929 411 682 395 921]\n",
      "Train: [630 805 778 376 506  78 607 934 251 413 218 174  56 834 912 528 783 601\n",
      "  83 656  93 537 655 498 855 359 678 885 141 263 378 182 821 255 681 108\n",
      " 931 301 465 936 794 513  81 775 762 257 773 288 636 388 308 166 726 668\n",
      " 660 161  59 504 549 634 357 278 360 297 146 253 748 839 550 144 461 822\n",
      " 588 421 842 558 412  26 268 888 292 438 927 489 384 361 600 245 518 131\n",
      " 175 896 534 545 186 408 367 276 394 232 887 212  98  84 126 752 724 744\n",
      " 732 690 697 609 749 425  92 248 514 578 944 663 490 456 764 258 862 100\n",
      " 433 329 256 650 358 916 354 666 437 722 939 187 765 407 523 109 350  55\n",
      "  63 807 639 147 114 524 792 211  36 178  13  47 434 249 481 730 134 429\n",
      " 909 560 442 836  95 757 615 616 427 563 137 184 284 648 716  14 781  77\n",
      " 130 713 336 368 853 136 869 238 849 687 711  18 124 812 526 233 305 129\n",
      " 243 579  30 771  39 728 910 675 452 638 503 661 179 866 199 552   2 372\n",
      "  89 310 646 828 512 325 614 155 181 369 459 355 207 808 365 635 880 151\n",
      " 154 382 554 411 811 332 494 871 395 282 203 735 298 104 737 583 915 320\n",
      "  69  46 676 695 902 206 923 599 375 536 164 419 300 237  16 585 596 532\n",
      " 508 791 882 876 140 391 860 477 741 946 926 112 861 551 613 645 949 423\n",
      " 195 133 659 204 430 244 924 830 905 620 621 863 717 139  17 416 274   3\n",
      " 214 177 684 810 389 486 893 754  73 772 348 385 541 478  54 899  70 337\n",
      " 275 128 587 102 374  61  32  91 496 586 454 190 631  27 736  45 943 673\n",
      " 672 415 252 651 790 742 122 553 608  11 515 605  53 891 322 623 589 751\n",
      " 261 125 940 795 390 806 777 745 296 363 142 349 845 370 226 740 920 380\n",
      " 826 602 148 159 626 802 169 168 868  40 669 612 400 627 387  50 451  80\n",
      " 197  60 865 610 240  74 314 464 564 908 894 468 548 932 903 947 502 624\n",
      " 797 287 210 911 469 105 463  43  65  19 467 814 123 234 362 546 339 149\n",
      " 667 281 403 241 824 404 162 507 299 453 784 755 580 756 644   8 930 747\n",
      " 277 422  96 571 479 877 693 227  24 485 439 188 625 224 351  62 366 858\n",
      " 917 157 291 591  12 254 488 470 566 733 603 686 856 283 768 942 832 696\n",
      " 889 662 202  52  64 565 323 914 709  21 221 450 285 335 272 127 373 338\n",
      " 886 774 561  76 562 875 347 531 852 786 674  42 938 652 825 833 279 913\n",
      " 679 399  87 444 270  97 770 156  34 543 392 617 271 568 827 510 132 584\n",
      " 538  82 319 402 458 250   0 286 472 707 582 474 688 495 719 664 527 401\n",
      " 763 194 107 595  79 446 260 306 682 311 193 796 590 247 637 440 223  49\n",
      "  71 680 901 328   7 900 520  31 857 341 633 539 441 569 906 119 704 575\n",
      "   4  94 484 473 517 492  75   9 511 658 167 699 505 216 540 698 205 729\n",
      "  66 432 758 191 264 692 766 165 103 641 209 346 236 138 113 267 671 266\n",
      " 818 217 396 344 743 746  29 941 542 152 677 219 435 171 907 353   6 189\n",
      " 475 259 850 823 324  51 653 593   1 597 904 493 846 455 246 725 302 921\n",
      " 530 312 405 787 640 801 628 819 487 280 618 471 200 841 919 685 884  41\n",
      " 838 720 448 753 556 491 557 701 840  10 598 898 289 570 918 715 409 342\n",
      " 183  25 890 544 417 734 750 379 622 220 483 854 509  37 145 153 809 383\n",
      " 785 230 883 176 895 714 800  58  67 377 864 331  35  72 160 727 689 851\n",
      " 879 333 397 499  99 201 945  20 294 111 445 340 242 327 867 829 462 533\n",
      " 398  57  15 321] Test: [632 457 897 334 476 835 799 386 213 700 225 525 642 116 343 106 706 929\n",
      " 654 643 262 381 881 500 120 731 878 572 393 793 592 848 928 269 516 817\n",
      " 760 782 330 604 933 948 443 780 739 345 574 555 567 705 172  23 431   5\n",
      " 779 235 420  38 815 670 522 198 798 629 872 694 521 937 180 581 611  22\n",
      " 788  48 710 229 228 665 265 649  33 691 293 418 460 925 892 831 304 482\n",
      " 317 843 820 712 576 110 316 307 466 173 776 594 364 870 215 371 295 703\n",
      " 318 789 170 873 117 208 115 290 449 657 738 196 150  68 118 816 559 222\n",
      "  85  88 135 315 519 619 759 761 723 844 406 803 935 309 837 158 121 573\n",
      " 769 326 436 721 192 606 535  28 497 577  86  90  44 874 547 143 231 185\n",
      " 273 101 239 410 356 424 303 426 847 647 708 313 813 683 702 501 163 480\n",
      " 922 804 352 428 859 529 414 718 767 447]\n",
      "Train: [586 442 798 230 337 686 398 500 428  86 147 411 827  83 400 550 458 648\n",
      " 102 870 596 453 709 360 403 824 381 610 594 349  74 395 117 261 227 219\n",
      " 665 217 504 602 804 704 687 511 299 796 788  73 557 527  57 883 907 106\n",
      " 583 361 634 423  38 658 488 486 325 104 637 625 832 344 203 884 850 292\n",
      " 150 913 434   0 853 947 294 260 105 531 300 762  64 392 617 152 153 151\n",
      " 825 714 818 584 121 111 568 839 810 633 133 848 291 608 380 196 799   5\n",
      " 200 259 930 667 254 137 623 454 143 651 167 206 284   1 355 543 368 779\n",
      " 854 419 554 752 331 935 180 444 921  65 378 579 351 743  96 307 457 789\n",
      " 252 295 265 364 777 621 452 124 885 822 148 915 820 772  80 771 415 578\n",
      " 328 276 468  28 842  75 802 528 478 204 724 836 677 795  76 262 928 641\n",
      " 794 171 569 927 755  70 365 288 162 669 939 828 834 223 281 700 310 130\n",
      " 835 332 271 461 600 367 113 609 210 211 237 685 647 553 477 439  88 940\n",
      "  69 937 684 646 775 656 161 194 140 731 172 314  44 710 576 546  82 805\n",
      " 582 764 807 231 606 242 768 574 688 811 182 250 335 718 642  41  21 490\n",
      " 766 545 703 141 730 872 672 297 920 207 867 289 695 450 274 149 139 467\n",
      " 269  50 800 949 157 750 918 791 278 427 790 869 208 573 103 674 899 874\n",
      "  32 668 661 638 707 895  29 116 176 680 797 754 275 893 465  56 362 876\n",
      "  51 412 698 748 268 522 751 852 189 542 917 437 484 394 334 523 406 285\n",
      " 506 726 742 482  78 607 838 689 821 879 659  63 179 201  99 138  34 286\n",
      " 184 871 558 390 135 313 855 859 256 537  48 318 258 713 122 387 388 409\n",
      " 619 164 727 631 725 666 350 205  39 134 595 903  20 653 845 112 163 905\n",
      " 386 520 459 308 115 529 552 728 474  12 671 919 128 449 535  98 109 757\n",
      " 519 946 776 100 759 433 192 435 575 745 670 136 785 767 240  72 630 803\n",
      " 424 302 493 469 158 863 760 551 914 198 901 247 562  49 341 404 830  66\n",
      " 645 589 547 214 817 489 706 330 224 345 683 892 502 333 389  81 480 894\n",
      " 611 816 510 787 264 938 226 889 841 357 857 813 190 496 702 232 303 823\n",
      " 118 948 882 479 132 119 402 541 592 356 664 426 445  22  17  47 719  18\n",
      " 377  90 436  77 517 498 906 758 155 769 826 197 438 188 622 781 705  92\n",
      " 448 691  36  23 202 593 306 643 187 346 213 922 926 235 193 678 753   7\n",
      " 509 290 359 849 393 590 127 505   4 125 690 181 129 873 603 544 440 809\n",
      " 494 597 598 657 829  26 866 236 778 251  46 319 283 549 897 353 720 382\n",
      " 898 512 327 280 909 169 243 773 460 696 534 101 354 635 464 497 548 401\n",
      "  54 379 110 833 317 851 749 191 868 209 570 174 902 624 212 673 123 783\n",
      " 363 945 476 929 723 722 399 717  14 320 808 654 931 170 220 340 338 887\n",
      " 878 620 538 861 366 326 315 165  67 652 515 273 741 455 693 734 924 747\n",
      " 912 246 238 304 329 636 397  24 429  84 195 159 168 587 536 846 780 739\n",
      " 234 272 343 408 503 142 508  87 131 615 501   2 431 765 154 321 692 891\n",
      " 447 530 774 241  31 865   8 425  40 463 896 441 146 451 580 880 627  30\n",
      " 339 178 375 923 555 925 126  85 936 715  60 248  68 801 312  79 228 166\n",
      " 396  52 199 601 336 266 784 571 513 559 472 699  27 737 369 660 732 311\n",
      " 239 711 735 456 233 877 814 539 701  13 819 526 563 910 263 473 697 806\n",
      " 599 662  58 279  45 612 618 222 864 430 373 629 525 173 516 856   9 296\n",
      " 605  97 792 933] Test: [245  62 462 405 358 491 391 782 514 342 145 352 733 483 566 533 287  11\n",
      " 843 324 186 770 712 376  10  71   3 756 466 675 626 495 293  89 681 640\n",
      " 301 218 185 540 812 860 934 144  25 694 277 255 267  53 941 524 679 888\n",
      " 221 708 942  55 183 944 588 347 487  95 676 729 422 370 649 421 107 744\n",
      " 628 639 604 716 492 371 682 763 322 323 565  91 416 485 507 786 904 840\n",
      "  93  61  94 443 911 481 613 120 216 564 225 793 556 875  19 305 815 215\n",
      "   6 108 414 644 114 499 229 282  33 374 309 738 175 858 420 614 298 916\n",
      " 890 160 932 518 417 837  59 943 881 663 244 177 249 156 721 736 270 532\n",
      " 257 560  35 407 432 383 471 886 900  15 567 446 862 591 632 616 410  16\n",
      " 253 581 847 385 740 418 908 475 348  37 761 572  42 521 831  43 413 655\n",
      " 577 372 650 561 746 316 844 470 384 585]\n",
      "Train: [406 277 522 759 883 488 825 321 632 318 529 654 379 145  16 126 920 296\n",
      "  54  35 549 481 143 708 666  17 359 652 247 631 315 244 410 496 162 673\n",
      " 461 176 289 242 324 597 230 928  56 865 722 614 366  31 747 134  42 719\n",
      " 723 236 310 414 644 125 371 540 269 925 450 678 742 472 772  52 679 141\n",
      " 287 483  88 814 592 857 756 425 661 929 940 445 669 784 707 229 396 706\n",
      " 453  46 375   7 843 663  53  65 340 612 105 137 819 892 118 190 838 787\n",
      " 292 297 807 894  45 517 177 774 432 344 680 568 628 591 262 402 919  28\n",
      " 899 150 217 323 856 796 117 625 608 538 171  64 280 553 152 918 733 146\n",
      " 735 263 167 519 142 337  92 635 187 164   9 484 135 227 393  98 748 546\n",
      " 554 817 477 492 462 915 457   3 449 729 184 475  66 551 480 662 867  69\n",
      " 744  97 124 114 588 573 394 476 387  82 407 749 752 303 259 862 870  96\n",
      " 860  33 710 739 649 642 335 299 351 474 785 448 386 112  99 392 908 473\n",
      " 579 233 935 279 169 887 200 587 815 435 100 900 266 499  26 725 816 932\n",
      " 637 102 506  37 221 514 755 688 422 151 557 810 835  89  20 731  58 285\n",
      " 364 398 770 513 764 127   1 139 306 724 826 412 740 738 338 206 914 149\n",
      " 249 511 268 677 111 589 775 797 193 533 858 798 849 510 806 852 122 380\n",
      " 569 356 930  57 811 346 440 541 361 593 893 898 779  44 245  22 246 332\n",
      " 927 239 726  78 833 214 567 577 352 373 778 204 791 824 704 758  63  70\n",
      " 941 872 116 374 300 812 288 543 368 317 736 284 641 713 745 172  51 698\n",
      " 805 534  32 696 119 721 694  24 504 497 801 235 781 657 281 939 469  12\n",
      " 311 452 536 636 780  60 429 751 547 294 381 255 400 115 240 272  48 559\n",
      " 686 195 901 703  23 916 777 355 685 895 645 613 348 813 674 241  39 776\n",
      " 647 293 876 621 388 868 163 378 231 427 611 594 571 638 188 676 803 818\n",
      " 208 753  72 847 878 653 682  19 405 793 578 837 291 479 866  61  29 572\n",
      " 851 877 650 113 170 278 684 369 391 298 256 430 399 800 316 174 518 848\n",
      " 339 418 120 574 101 926 219 271 871 276 209 183 251 413 660 234 689 521\n",
      " 730 558 220 595 830 129 880  79 470 646 659 451 875 304 106 144 460 455\n",
      " 215 750 605 307 211 582 444 121 630 478 165 552 626 711 218 253   4 103\n",
      " 458 664 754 903   0 196 382 909 459 491  95 302 836 194 395 532  14 783\n",
      "  47 904 889 166 746 308 603 509   6 905 584 489 485 320 693  83 254 570\n",
      " 494 921 743 282 309 515 327 863 421 210  36 599  11 643 505 897 128 539\n",
      " 110  40 286 156 133 328 526 198 695 423 560 896  18 610 436 581 197 773\n",
      " 845 718 290 524 606 854 109 416 768 471 690 225 157 502 250 910 550 590\n",
      " 456 828 732 949 879 377 627 705 360 681  85 717 401 671 771 508 715 709\n",
      " 616 224 874 888 180 260 409 438 336 385 228 530 155 192 257 864  10 765\n",
      "   2 367 354 411 454 882 159 358 931 648 943 936 942 343 528 383 326 353\n",
      " 404 846 884 223 212 601 347 859 634 767  30 108 737 934 561 890 891  50\n",
      " 107 670 668 312 232 788 345 468 486 809  67 622 585 138 794  34 769 434\n",
      " 295 464 185 350  87  73 495 945 808 902 498 264 408 623 917 799 692 938\n",
      " 701 130 683 617 431 161 741 158 520 203 238 700 629 222 390 270  80  74\n",
      " 792 795 782 804 885 372 542 389 555 598 357 675 178 493 575 619 761 397\n",
      " 168 331 911  81 566 853 226 687 548 527 202 609  55 760 201  90 820 283\n",
      " 790 734 325  93] Test: [802 207 181 829 342 757 618 420 886 205 265 535 607 702 179  27 672 823\n",
      " 465 333 720 691 362 822 447 697 583 827 267 428 655 881 153 363 237  43\n",
      " 714  21 330 923 850 937 148 173 640   8 580 873 839 728 716 426 840  94\n",
      " 656 446 842 586 576 467  59 665 252 563  38 556 403 699  84 322 531 243\n",
      "  91 537 305  68 186 516 933 466 487 821 507 861 274 463 841 147 258 844\n",
      " 370  86 131  13  75 314 482 596  41 182 544 832 869   5 523 248 439 123\n",
      " 154 104 319 415 604 946 727 944 191 924  62 501 565 334 503 633 329 624\n",
      "  71 948 275 443 763 490 199 433 639 301 913 365 442 512 651 615 417 947\n",
      "  15 384 441 437 766 140 912 834 658 545  76 525 831 213 216 261  49 667\n",
      " 922 907 855 602  77 160 762 175 132 906 349 189 273 500  25 712 419 600\n",
      " 786 789 376 341 136 564 424 620 313 562]\n",
      "Train: [612 466 926 473  90 720 626 463 431 118 386 848 815 491 355  71 331 256\n",
      " 693 433 293 174 847 811 220 282 115 821 207  83 242  50 478 844 646 705\n",
      " 389 258 407 465   3 902 871 616 561 930 696   7 193 412 723  63 396 828\n",
      " 411 834 692 249 542 438 566 213 927 335 824 195 232 313 949 909 706 362\n",
      " 447 839 731 503 525 216 795 462 341 296 916  39 461  65 884 517 674 945\n",
      "  60 608 173  84 589 448 116 309 186 240 281 446 120 107 287 668 410 645\n",
      " 590 929  15 592  16 449 752 582 685 886 711 664   1 911 516 838 538 126\n",
      " 827 553 854  19 891 552 316 190 492  96 756 233 619 334 122 564  40 148\n",
      " 498 450 781 941 532 818 864 647 725 602 252 541 301 594 643 350 146 474\n",
      " 387 537 629 265 254 920 512 771 813 135 150 406 224 948 782  62 623 567\n",
      " 931 380 662 754 162 697 924 822 209 113 740 377 937 632 666 750 454 560\n",
      " 829 496 520 300 572 850 149 117 724 131 757 197 166 340 642 548 777 495\n",
      "  20 928 672 907 185 414 104 877  93 669 467 543 429 635 393 932 883 152\n",
      " 283 332 562 620 154 321   9 483 472 644 898  54 860 801  25 895 793 484\n",
      " 677 622 214  23 637 650 140 508 609 861 851 437 878  86 493 343 879 765\n",
      " 736 529 914 435 641 421 596 785 351 938 617 196 890 203 124 936  55 807\n",
      " 605 699 143 823 226 667  10 577 515 402 648 585 333 322 730  66 812 716\n",
      " 536 346 835 870 597 208 559 434 873 547 259 274 745 614 200 618 253 108\n",
      " 324 904 212 390 457 378 722  42 921 583 593 799 524 573 939 327 138 574\n",
      " 760 661 229 737 183 610  67 485 528 639 511 405 234 778 329 284 374 738\n",
      "  92 753 353 189 526 689 571 849 726  79 900 660 825 236 132 758 215 318\n",
      "  85 458 415 342 872 615 905 292 129 798 768 894  33 804 575 853 110 394\n",
      " 934 235  26 145  87 663 866 280  91 514 158 607  14 417 270 673 317 770\n",
      " 398 299 640 179  81 631 707 636 694 486 347  69 568 708 123 599 250 688\n",
      " 679 759  17 442 719 628 852 732 919 432 686 557 163 603 739 218 223 198\n",
      " 766 359  53 427 460 783 230 487 395 319 246 289 792 763 549 368 286 192\n",
      " 670 401 946  38   6 205 403 819 202 204 382 817 805 681 865 308 165 774\n",
      " 546 294 187 613  29 290 712 330 451  32 357 776 221  51 687 481 655 144\n",
      " 469 119  22 251 727 366 388 178 470 344 480 627 170 307 181 728 381 634\n",
      " 882 796  61 418 199 257 101 364   8 769 376 665 133 419 558 840 544 565\n",
      " 755 580 453  70 279 297 361 826 504 651 897 304 896 244 790 455 157 906\n",
      " 468 267 358 710 808 391 400  46 130 262 856 578 775 876 803 271 494 128\n",
      " 245 747 188 633 490 422 915  94 656 295 842 370 601 595  31 167 217 169\n",
      " 788 443  36  37 649 539 339 509  12 933 372 713 499 430 476 654 531 127\n",
      " 345 177 588 268 869 507 800 743 762 312  72 328 810 210 944 671 273 733\n",
      " 901 231   5 809 261 584  34 598  89 581 241 923 700 159 426 105 171 518\n",
      " 875 837 206 943 624 703 392 521 384 587 379 522 338 413 444  77   4 112\n",
      "  45 586 314 814 611 717 881 889 691 892 867  98 137 751 680 423  44 678\n",
      "  27 383 349 690 264 621 114 441 142 843 888 830 180  56 238 211 741 833\n",
      " 356 456 746 452 704  80 201  49 266 841 604  48 337 365 172 141 862  52\n",
      " 243 721 360 535  35 409 510 630 791 194 404 734 272 794 845 100 735 219\n",
      " 489 868 625 917 326 500 836 445 285 789 125 436 530 305 315 863 709 175\n",
      " 222 925 311 479] Test: [506  82 369 820 764 579 698 501 554  95 385 885 408 134 832 176 278 729\n",
      " 744  97 555  64 363 424 652  21 684 519 675 310 545 918 513 606 569 695\n",
      "   0  41 225 103 682 816 371  73  24  13 373 880 288 702 136 947 291  28\n",
      " 348 893  99 275 269 551 922 237 935 676  11 797 942 428 425 858 658 276\n",
      " 657 505 715 859 306 714 354  43 459 227 375 397 749 591 761 121 502 153\n",
      " 247 653 556 748 550 534 857   2 772 540 523  57  68  76 416 255 303 302\n",
      "  78 477 576 940 806  59 899 160 325 742 659 440  18 773 787 184 182 139\n",
      " 831 471 784 228 779 887 497 802 248 780 106 109 161 111 336 563 277 638\n",
      " 155 786 102 320 367 913  30  58 908  74 910 439 600 533  88 260 846 570\n",
      " 527 718 482 420 874 156  47 683 352 475 323 912 147 164 168 151 767 903\n",
      " 464 701 191 855 263 399 239 488 298  75]\n"
     ]
    }
   ],
   "source": [
    "#Splitting data before sampling\n",
    "#Splitting data into train and test set in 80% and 20% respectively, using Stratified Shuffle Split\n",
    "\n",
    "X = customer_log_df.drop('subscribed', axis=1)\n",
    "Y = customer_log_df['subscribed']\n",
    "\n",
    "sss = StratifiedShuffleSplit(n_splits=10, test_size=0.2, random_state=42)\n",
    "\n",
    "for train_index, test_index in sss.split(X, Y):\n",
    "    print(\"Train:\", train_index, \"Test:\", test_index)\n",
    "    Xtrain, Xtest = X.iloc[train_index], X.iloc[test_index]\n",
    "    Ytrain, Ytest = Y.iloc[train_index], Y.iloc[test_index]"
   ]
  },
  {
   "cell_type": "code",
   "execution_count": 198,
   "metadata": {
    "collapsed": false
   },
   "outputs": [
    {
     "name": "stdout",
     "output_type": "stream",
     "text": [
      "(760, 4)\n",
      "(760,)\n",
      "(190, 4)\n",
      "(190,)\n"
     ]
    }
   ],
   "source": [
    "print(Xtrain.shape)\n",
    "print(Ytrain.shape)\n",
    "print(Xtest.shape)\n",
    "print(Ytest.shape)"
   ]
  },
  {
   "cell_type": "code",
   "execution_count": 199,
   "metadata": {
    "collapsed": false
   },
   "outputs": [
    {
     "name": "stdout",
     "output_type": "stream",
     "text": [
      "Label Distributions: \n",
      "\n",
      "[0.83026316 0.16973684]\n",
      "[0.83157895 0.16842105]\n"
     ]
    }
   ],
   "source": [
    "# Check if the labels are distributed equally in all the datasets after splitting\n",
    "train_unique_label, train_counts_label = np.unique(Ytrain, return_counts=True)\n",
    "test_unique_label, test_counts_label = np.unique(Ytest, return_counts=True)\n",
    "\n",
    "print('Label Distributions: \\n')\n",
    "print(train_counts_label/ len(Ytrain))\n",
    "print(test_counts_label/ len(Ytest))"
   ]
  },
  {
   "cell_type": "markdown",
   "metadata": {},
   "source": [
    "As seen above, the labels are equally distributed in both train and test set."
   ]
  },
  {
   "cell_type": "code",
   "execution_count": 200,
   "metadata": {
    "collapsed": false
   },
   "outputs": [
    {
     "name": "stdout",
     "output_type": "stream",
     "text": [
      "Original dataset shape Counter({0: 631, 1: 129})\n",
      "Resampled dataset shape Counter({0: 631, 1: 626})\n",
      "Shape of X_adasampled: (1257, 4)\n",
      "Shape of Y_adasampled: (1257,)\n"
     ]
    }
   ],
   "source": [
    "#Using ADASYN for Oversampling\n",
    "ada = ADASYN(sampling_strategy='minority', random_state=42)\n",
    "\n",
    "#Oversampling is applied only on the training set\n",
    "X_adasampled, Y_adasampled = ada.fit_sample(Xtrain, Ytrain)\n",
    "print('Original dataset shape %s' % Counter(Ytrain))\n",
    "print('Resampled dataset shape %s' % Counter(Y_adasampled))\n",
    "print('Shape of X_adasampled: {}'.format(X_adasampled.shape))\n",
    "print('Shape of Y_adasampled: {}'.format(Y_adasampled.shape))"
   ]
  },
  {
   "cell_type": "code",
   "execution_count": 201,
   "metadata": {
    "collapsed": true
   },
   "outputs": [],
   "source": [
    "Xtest_arr=Xtest.values\n",
    "Ytest_arr=Ytest.values"
   ]
  },
  {
   "cell_type": "code",
   "execution_count": 202,
   "metadata": {
    "collapsed": false,
    "scrolled": true
   },
   "outputs": [
    {
     "data": {
      "text/plain": [
       "<matplotlib.axes._subplots.AxesSubplot at 0x1ca7010f2b0>"
      ]
     },
     "execution_count": 202,
     "metadata": {},
     "output_type": "execute_result"
    },
    {
     "data": {
      "image/png": "[encoded data removed]",
      "text/plain": [
       "<matplotlib.figure.Figure at 0x1ca7083a9e8>"
      ]
     },
     "metadata": {},
     "output_type": "display_data"
    }
   ],
   "source": [
    "#Parameter Tuning Random Forest Classifier\n",
    "pred_scores_RF = []\n",
    "for i in range(2,100):\n",
    "    #n_estimators is the number of tress in the forest\n",
    "    rfc = RandomForestClassifier(n_estimators=i, random_state=111)\n",
    "    rfc.fit(X_adasampled, Y_adasampled)\n",
    "    Y_pred = rfc.predict(Xtest)\n",
    "    pred_scores_RF.append((i, [f1_score(Ytest_arr,Y_pred)]))\n",
    "df = pd.DataFrame.from_items(pred_scores_RF,orient='index', columns=['Score'])\n",
    "df.plot(figsize=(5,3))"
   ]
  },
  {
   "cell_type": "markdown",
   "metadata": {},
   "source": [
    "Thus, the F-score is the same for the entire range of n_iter values. Thus, the lowest value is chosen from the range, i.e., 2. Similarly, other parameters can also be tuned using Grid Search CV."
   ]
  },
  {
   "cell_type": "code",
   "execution_count": 203,
   "metadata": {
    "collapsed": true
   },
   "outputs": [],
   "source": [
    "#function for confusion matrix\n",
    "def conf_matrix(predicted_values):\n",
    "    Predictions_CM = confusion_matrix(Ytest_arr, predicted_values, labels = [0, 1])\n",
    "    class_feat=customer_log_df['subscribed'].copy()\n",
    "    class_feat= class_feat.unique()\n",
    "    fig, ax = plt.subplots(figsize=(5,5))\n",
    "    sns.heatmap(Predictions_CM, annot=True, fmt='d', xticklabels=class_feat, yticklabels=class_feat)\n",
    "    plt.ylabel('Actual Class')\n",
    "    plt.xlabel('Predicted Class')\n",
    "    plt.show()"
   ]
  },
  {
   "cell_type": "code",
   "execution_count": 204,
   "metadata": {
    "collapsed": false,
    "scrolled": true
   },
   "outputs": [
    {
     "data": {
      "image/png": "[encoded data removed]",
      "text/plain": [
       "<matplotlib.figure.Figure at 0x1ca7057a438>"
      ]
     },
     "metadata": {},
     "output_type": "display_data"
    }
   ],
   "source": [
    "rfc = RandomForestClassifier(n_estimators=2, random_state=111)\n",
    "rfc.fit(X_adasampled, Y_adasampled)\n",
    "Y_pred = rfc.predict(Xtest)\n",
    "conf_matrix(Y_pred)"
   ]
  },
  {
   "cell_type": "code",
   "execution_count": 205,
   "metadata": {
    "collapsed": false,
    "scrolled": true
   },
   "outputs": [
    {
     "name": "stdout",
     "output_type": "stream",
     "text": [
      "              precision    recall  f1-score   support\n",
      "\n",
      "           0       0.98      0.95      0.96       158\n",
      "           1       0.78      0.91      0.84        32\n",
      "\n",
      "   micro avg       0.94      0.94      0.94       190\n",
      "   macro avg       0.88      0.93      0.90       190\n",
      "weighted avg       0.95      0.94      0.94       190\n",
      "\n"
     ]
    }
   ],
   "source": [
    "print(classification_report(Ytest,Y_pred,labels=[0, 1]))"
   ]
  },
  {
   "cell_type": "code",
   "execution_count": 206,
   "metadata": {
    "collapsed": false
   },
   "outputs": [
    {
     "data": {
      "image/png": "[encoded data removed]",
      "text/plain": [
       "<matplotlib.figure.Figure at 0x1ca71eb70b8>"
      ]
     },
     "metadata": {},
     "output_type": "display_data"
    }
   ],
   "source": [
    "#Calculating Precision and Recall for various thresholds\n",
    "precision, recall, thresholds_pr = precision_recall_curve(Ytest_arr, Y_pred)\n",
    "\n",
    "#Auc for PR curve\n",
    "AUC_PRcurve= auc(recall, precision)\n",
    "\n",
    "plt.figure(1)\n",
    "# plot no skill\n",
    "plt.plot([0, 1], [0.5, 0.5], linestyle='--')\n",
    "#plot PR curve\n",
    "plt.plot(precision, recall, label = \"AUC = {:0.2f}\".format(AUC_PRcurve), lw = 3, alpha = 0.7)\n",
    "plt.xlabel('Precision', fontsize = 14)\n",
    "plt.ylabel('Recall', fontsize = 14)\n",
    "plt.title('Precision-Recall Curve', fontsize = 18)\n",
    "plt.legend(loc='best')\n",
    "plt.show()"
   ]
  },
  {
   "cell_type": "code",
   "execution_count": 207,
   "metadata": {
    "collapsed": false
   },
   "outputs": [
    {
     "name": "stdout",
     "output_type": "stream",
     "text": [
      "             Gamma     Score\n",
      "rbf           0.05  0.821918\n",
      "rbf           0.10  0.821918\n",
      "rbf           0.15  0.821918\n",
      "rbf           0.20  0.821918\n",
      "polynominal   0.05  0.821918\n"
     ]
    },
    {
     "data": {
      "image/png": "[encoded data removed]",
      "text/plain": [
       "<matplotlib.figure.Figure at 0x1ca6e565278>"
      ]
     },
     "metadata": {},
     "output_type": "display_data"
    }
   ],
   "source": [
    "#SVM Classifier\n",
    "pred_scores_SVM = []\n",
    "krnl = {'rbf' : 'rbf','polynominal' : 'poly', 'sigmoid': 'sigmoid'}\n",
    "for k,v in krnl.items():\n",
    "    for i in np.linspace(0.05, 1, num=20):\n",
    "        svc = SVC(kernel=v, gamma=i)\n",
    "        svc.fit(X_adasampled, Y_adasampled)\n",
    "        Y_pred = svc.predict(Xtest)\n",
    "        pred_scores_SVM.append((k, [i, f1_score(Ytest_arr,Y_pred)]))\n",
    "        \n",
    "#converts key-value pair to dataframe    \n",
    "df = pd.DataFrame.from_items(pred_scores_SVM,orient='index', columns=['Gamma','Score'])\n",
    "df['Score'].plot(kind='line', figsize=(5,3), ylim=(0.8,1.0))\n",
    "        \n",
    "print(df[df['Score'] == df['Score'].max()])"
   ]
  },
  {
   "cell_type": "code",
   "execution_count": 208,
   "metadata": {
    "collapsed": false
   },
   "outputs": [
    {
     "data": {
      "image/png": "[encoded data removed]",
      "text/plain": [
       "<matplotlib.figure.Figure at 0x1ca7007a710>"
      ]
     },
     "metadata": {},
     "output_type": "display_data"
    }
   ],
   "source": [
    "svc = SVC(kernel='rbf', gamma=0.05)\n",
    "svc.fit(X_adasampled, Y_adasampled)\n",
    "Y_pred = svc.predict(Xtest)\n",
    "conf_matrix(Y_pred)"
   ]
  },
  {
   "cell_type": "code",
   "execution_count": 209,
   "metadata": {
    "collapsed": false
   },
   "outputs": [
    {
     "name": "stdout",
     "output_type": "stream",
     "text": [
      "              precision    recall  f1-score   support\n",
      "\n",
      "           0       0.99      0.93      0.96       158\n",
      "           1       0.73      0.94      0.82        32\n",
      "\n",
      "   micro avg       0.93      0.93      0.93       190\n",
      "   macro avg       0.86      0.93      0.89       190\n",
      "weighted avg       0.94      0.93      0.93       190\n",
      "\n"
     ]
    }
   ],
   "source": [
    "print(classification_report(Ytest,Y_pred,labels=[0, 1]))"
   ]
  },
  {
   "cell_type": "code",
   "execution_count": 210,
   "metadata": {
    "collapsed": false
   },
   "outputs": [
    {
     "data": {
      "image/png": "[encoded data removed]",
      "text/plain": [
       "<matplotlib.figure.Figure at 0x1ca708e1860>"
      ]
     },
     "metadata": {},
     "output_type": "display_data"
    }
   ],
   "source": [
    "#Calculating Precision and Recall for various thresholds\n",
    "precision_2, recall_2, thresholds_pr_2 = precision_recall_curve(Ytest_arr, Y_pred)\n",
    "\n",
    "#Auc for PR curve\n",
    "AUC_PRcurve_2= auc(recall_2, precision_2)\n",
    "\n",
    "plt.figure(1)\n",
    "# plot no skill\n",
    "plt.plot([0, 1], [0.5, 0.5], linestyle='--')\n",
    "#plot PR curve\n",
    "plt.plot(precision, recall, label = \"AUC Model_1 = {:0.2f}\".format(AUC_PRcurve), lw = 3, alpha = 0.7)\n",
    "plt.plot(precision_2, recall_2, label = \"AUC Model_2 = {:0.2f}\".format(AUC_PRcurve_2), lw = 3, alpha = 0.7)\n",
    "plt.xlabel('Precision', fontsize = 14)\n",
    "plt.ylabel('Recall', fontsize = 14)\n",
    "plt.title('Precision-Recall Curve', fontsize = 18)\n",
    "plt.legend(loc='best')\n",
    "plt.show()"
   ]
  },
  {
   "cell_type": "markdown",
   "metadata": {},
   "source": [
    "On comparing, Random Forest and Support Vector Machine, if the subscribed category (1) is taken into consideration then, random forest performs better in terms of F-score. But the non-subscribed class (0) is of higher importance in order to determine the customers that will not subscribe and steps ca be taken to change there decision to subscribe. Taking a look at the confusion matrix it can be seen that the number of False Positives is greater in SVM. Thus, from this point random forest is better in all aspects compared to SVM.  "
   ]
  }
 ],
 "metadata": {
  "anaconda-cloud": {},
  "kernelspec": {
   "display_name": "Python [conda env:Anaconda3]",
   "language": "python",
   "name": "conda-env-Anaconda3-py"
  },
  "language_info": {
   "codemirror_mode": {
    "name": "ipython",
    "version": 3
   },
   "file_extension": ".py",
   "mimetype": "text/x-python",
   "name": "python",
   "nbconvert_exporter": "python",
   "pygments_lexer": "ipython3",
   "version": "3.5.2"
  }
 },
 "nbformat": 4,
 "nbformat_minor": 1
}
